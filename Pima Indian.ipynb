{
 "cells": [
  {
   "cell_type": "markdown",
   "metadata": {},
   "source": [
    "<div style=\"width: 400px; height: 160px;\">\n",
    "    <img src=\"rplogo_small.png\" width=\"100%\" height=\"100%\" align=\"left\">\n",
    "</div>\n",
    "\n",
    "###     TIPP - AAI Assignement (Machine Learning Fundamentals)<br>Due Date: 19 February 2020\n",
    "###     Submitted By: <u>KOAY</u> SENG TIAN<br>Email: sengtian@yahoo.com\n"
   ]
  },
  {
   "cell_type": "markdown",
   "metadata": {},
   "source": [
    "# Introduction\n",
    "The [Pima](https://en.wikipedia.org/wiki/Pima_people) are a group of Native Americans living in Arizona. [Source](https://www.andreagrandi.it/2018/04/14/machine-learning-pima-indians-diabetes/) A genetic predisposition allowed this group to survive normally to a diet poor of carbohydrates for years. In the recent years, because of a sudden shift from traditional agricultural crops to processed foods, together with a decline in physical activity, made them develop the highest prevalence of type 2 diabetes and for this reason they have been the subject of many studies. \n",
    "\n",
    "This dataset was originally from the 'National Institute of Diabetes and Digestive and Kidney Diseases'.  The objective is to predict, based on diagnostic measurements whether a patient has diabetes.  Several constraints were placed on the selection of these instances from a larger database.  In particular, all patients here are females at least 21 years old of Pima Indian heritage.\n",
    "\n",
    "__Data Source:__ [Kaggle](https://www.kaggle.com/kumargh/pimaindiansdiabetescsv)\n",
    "\n",
    "# Data Understanding\n",
    "The dataset includes data from 768 women with eight characteristics.   \n",
    "- **Pregnancies:** Number of times pregnant\n",
    "- **Glucose:** Plasma glucose concentration a 2 hours in an oral glucose tolerance test\n",
    "- **BloodPressure:** Diastolic blood pressure (mm Hg)\n",
    "- **SkinThickness:** Triceps skin fold thickness (mm)\n",
    "- **Insulin:** 2-Hour serum insulin (mu U/ml)\n",
    "- **BMI:** Body mass index (weight in kg/(height in m)^2)\n",
    "- **DiabetesPedigreeFunction:** Diabetes pedigree function\n",
    "- **Age:** Age (years)\n",
    "\n",
    "The last column being the person was diagnosed with diabetes (1) or not (0).\n",
    "- Outcome: Class variable (0 or 1)"
   ]
  },
  {
   "cell_type": "code",
   "execution_count": 1,
   "metadata": {},
   "outputs": [
    {
     "name": "stdout",
     "output_type": "stream",
     "text": [
      "Version(s):\n",
      "\n",
      "python = 3.7.6\n",
      "mathplotlib = 3.0.3\n",
      "numpy = 1.17.4\n",
      "pandas = 1.0.1\n",
      "pickel =  4.0\n",
      "seaborn = 0.10.0\n",
      "sklearn = 0.21.3\n",
      "xgboost = 0.90\n"
     ]
    }
   ],
   "source": [
    "# TIPP - AAI Assignment (Machine Learning Fundamentals)\n",
    "# Date Due: 19 February 2020\n",
    "# Submited By: KOAY SENG TIAN\n",
    "# Email: sengtian@yahoo.com\n",
    "#\n",
    "# GitHub: https://github.com/koayst/rp_machinelearning_assignment\n",
    "#\n",
    "# load the modules/packages.\n",
    "# If there is an error, need to install the modules/packages\n",
    "# also list the version being used here\n",
    "import matplotlib\n",
    "import matplotlib.pyplot as plt\n",
    "import numpy as np\n",
    "import pandas as pd\n",
    "import os\n",
    "import pickle\n",
    "import seaborn as sns\n",
    "import sklearn\n",
    "\n",
    "#pip install xgboost\n",
    "import xgboost\n",
    "\n",
    "import warnings\n",
    "\n",
    "from platform import python_version\n",
    "\n",
    "# show the versions of modules/packages imported\n",
    "print('Version(s):\\n')\n",
    "print('python =', python_version())\n",
    "\n",
    "print('mathplotlib =', matplotlib.__version__)\n",
    "print('numpy =', np.__version__)\n",
    "print('pandas =', pd.__version__)\n",
    "print('pickel = ', pickle.format_version)\n",
    "print('seaborn =', sns.__version__)\n",
    "print('sklearn =', sklearn.__version__)\n",
    "print('xgboost =', xgboost.__version__)"
   ]
  },
  {
   "cell_type": "markdown",
   "metadata": {},
   "source": [
    "# Load Dataset"
   ]
  },
  {
   "cell_type": "code",
   "execution_count": 2,
   "metadata": {},
   "outputs": [
    {
     "name": "stdout",
     "output_type": "stream",
     "text": [
      "Load dataset.\n"
     ]
    }
   ],
   "source": [
    "#the file is found in the same directory as this jupyter notebook\n",
    "#another file, pima-indians-diabetes.names for reading reference\n",
    "print('Load dataset.')\n",
    "\n",
    "filedir = 'data'\n",
    "filename='pima-indians-diabetes.csv'\n",
    "filepath = os.path.join(os.getcwd(), filedir)\n",
    "\n",
    "df = pd.read_csv(os.path.join(filepath, filename))"
   ]
  },
  {
   "cell_type": "code",
   "execution_count": 3,
   "metadata": {},
   "outputs": [
    {
     "name": "stdout",
     "output_type": "stream",
     "text": [
      "Rows => 768\n",
      "Columns => 9\n"
     ]
    }
   ],
   "source": [
    "print('Rows => {}\\nColumns => {}'.format(df.shape[0], df.shape[1]))"
   ]
  },
  {
   "cell_type": "code",
   "execution_count": 4,
   "metadata": {},
   "outputs": [
    {
     "data": {
      "text/html": [
       "<div>\n",
       "<style scoped>\n",
       "    .dataframe tbody tr th:only-of-type {\n",
       "        vertical-align: middle;\n",
       "    }\n",
       "\n",
       "    .dataframe tbody tr th {\n",
       "        vertical-align: top;\n",
       "    }\n",
       "\n",
       "    .dataframe thead th {\n",
       "        text-align: right;\n",
       "    }\n",
       "</style>\n",
       "<table border=\"1\" class=\"dataframe\">\n",
       "  <thead>\n",
       "    <tr style=\"text-align: right;\">\n",
       "      <th></th>\n",
       "      <th>Pregnancies</th>\n",
       "      <th>Glucose</th>\n",
       "      <th>BloodPressure</th>\n",
       "      <th>SkinThickness</th>\n",
       "      <th>Insulin</th>\n",
       "      <th>BMI</th>\n",
       "      <th>DiabetesPedigreeFunction</th>\n",
       "      <th>Age</th>\n",
       "      <th>Outcome</th>\n",
       "    </tr>\n",
       "  </thead>\n",
       "  <tbody>\n",
       "    <tr>\n",
       "      <th>0</th>\n",
       "      <td>6</td>\n",
       "      <td>148</td>\n",
       "      <td>72</td>\n",
       "      <td>35</td>\n",
       "      <td>0</td>\n",
       "      <td>33.6</td>\n",
       "      <td>0.627</td>\n",
       "      <td>50</td>\n",
       "      <td>1</td>\n",
       "    </tr>\n",
       "    <tr>\n",
       "      <th>1</th>\n",
       "      <td>1</td>\n",
       "      <td>85</td>\n",
       "      <td>66</td>\n",
       "      <td>29</td>\n",
       "      <td>0</td>\n",
       "      <td>26.6</td>\n",
       "      <td>0.351</td>\n",
       "      <td>31</td>\n",
       "      <td>0</td>\n",
       "    </tr>\n",
       "    <tr>\n",
       "      <th>2</th>\n",
       "      <td>8</td>\n",
       "      <td>183</td>\n",
       "      <td>64</td>\n",
       "      <td>0</td>\n",
       "      <td>0</td>\n",
       "      <td>23.3</td>\n",
       "      <td>0.672</td>\n",
       "      <td>32</td>\n",
       "      <td>1</td>\n",
       "    </tr>\n",
       "    <tr>\n",
       "      <th>3</th>\n",
       "      <td>1</td>\n",
       "      <td>89</td>\n",
       "      <td>66</td>\n",
       "      <td>23</td>\n",
       "      <td>94</td>\n",
       "      <td>28.1</td>\n",
       "      <td>0.167</td>\n",
       "      <td>21</td>\n",
       "      <td>0</td>\n",
       "    </tr>\n",
       "    <tr>\n",
       "      <th>4</th>\n",
       "      <td>0</td>\n",
       "      <td>137</td>\n",
       "      <td>40</td>\n",
       "      <td>35</td>\n",
       "      <td>168</td>\n",
       "      <td>43.1</td>\n",
       "      <td>2.288</td>\n",
       "      <td>33</td>\n",
       "      <td>1</td>\n",
       "    </tr>\n",
       "  </tbody>\n",
       "</table>\n",
       "</div>"
      ],
      "text/plain": [
       "   Pregnancies  Glucose  BloodPressure  SkinThickness  Insulin   BMI  \\\n",
       "0            6      148             72             35        0  33.6   \n",
       "1            1       85             66             29        0  26.6   \n",
       "2            8      183             64              0        0  23.3   \n",
       "3            1       89             66             23       94  28.1   \n",
       "4            0      137             40             35      168  43.1   \n",
       "\n",
       "   DiabetesPedigreeFunction  Age  Outcome  \n",
       "0                     0.627   50        1  \n",
       "1                     0.351   31        0  \n",
       "2                     0.672   32        1  \n",
       "3                     0.167   21        0  \n",
       "4                     2.288   33        1  "
      ]
     },
     "execution_count": 4,
     "metadata": {},
     "output_type": "execute_result"
    },
    {
     "data": {
      "text/html": [
       "<div>\n",
       "<style scoped>\n",
       "    .dataframe tbody tr th:only-of-type {\n",
       "        vertical-align: middle;\n",
       "    }\n",
       "\n",
       "    .dataframe tbody tr th {\n",
       "        vertical-align: top;\n",
       "    }\n",
       "\n",
       "    .dataframe thead th {\n",
       "        text-align: right;\n",
       "    }\n",
       "</style>\n",
       "<table border=\"1\" class=\"dataframe\">\n",
       "  <thead>\n",
       "    <tr style=\"text-align: right;\">\n",
       "      <th></th>\n",
       "      <th>Pregnancies</th>\n",
       "      <th>Glucose</th>\n",
       "      <th>BloodPressure</th>\n",
       "      <th>SkinThickness</th>\n",
       "      <th>Insulin</th>\n",
       "      <th>BMI</th>\n",
       "      <th>DiabetesPedigreeFunction</th>\n",
       "      <th>Age</th>\n",
       "      <th>Outcome</th>\n",
       "    </tr>\n",
       "  </thead>\n",
       "  <tbody>\n",
       "    <tr>\n",
       "      <th>763</th>\n",
       "      <td>10</td>\n",
       "      <td>101</td>\n",
       "      <td>76</td>\n",
       "      <td>48</td>\n",
       "      <td>180</td>\n",
       "      <td>32.9</td>\n",
       "      <td>0.171</td>\n",
       "      <td>63</td>\n",
       "      <td>0</td>\n",
       "    </tr>\n",
       "    <tr>\n",
       "      <th>764</th>\n",
       "      <td>2</td>\n",
       "      <td>122</td>\n",
       "      <td>70</td>\n",
       "      <td>27</td>\n",
       "      <td>0</td>\n",
       "      <td>36.8</td>\n",
       "      <td>0.340</td>\n",
       "      <td>27</td>\n",
       "      <td>0</td>\n",
       "    </tr>\n",
       "    <tr>\n",
       "      <th>765</th>\n",
       "      <td>5</td>\n",
       "      <td>121</td>\n",
       "      <td>72</td>\n",
       "      <td>23</td>\n",
       "      <td>112</td>\n",
       "      <td>26.2</td>\n",
       "      <td>0.245</td>\n",
       "      <td>30</td>\n",
       "      <td>0</td>\n",
       "    </tr>\n",
       "    <tr>\n",
       "      <th>766</th>\n",
       "      <td>1</td>\n",
       "      <td>126</td>\n",
       "      <td>60</td>\n",
       "      <td>0</td>\n",
       "      <td>0</td>\n",
       "      <td>30.1</td>\n",
       "      <td>0.349</td>\n",
       "      <td>47</td>\n",
       "      <td>1</td>\n",
       "    </tr>\n",
       "    <tr>\n",
       "      <th>767</th>\n",
       "      <td>1</td>\n",
       "      <td>93</td>\n",
       "      <td>70</td>\n",
       "      <td>31</td>\n",
       "      <td>0</td>\n",
       "      <td>30.4</td>\n",
       "      <td>0.315</td>\n",
       "      <td>23</td>\n",
       "      <td>0</td>\n",
       "    </tr>\n",
       "  </tbody>\n",
       "</table>\n",
       "</div>"
      ],
      "text/plain": [
       "     Pregnancies  Glucose  BloodPressure  SkinThickness  Insulin   BMI  \\\n",
       "763           10      101             76             48      180  32.9   \n",
       "764            2      122             70             27        0  36.8   \n",
       "765            5      121             72             23      112  26.2   \n",
       "766            1      126             60              0        0  30.1   \n",
       "767            1       93             70             31        0  30.4   \n",
       "\n",
       "     DiabetesPedigreeFunction  Age  Outcome  \n",
       "763                     0.171   63        0  \n",
       "764                     0.340   27        0  \n",
       "765                     0.245   30        0  \n",
       "766                     0.349   47        1  \n",
       "767                     0.315   23        0  "
      ]
     },
     "execution_count": 4,
     "metadata": {},
     "output_type": "execute_result"
    }
   ],
   "source": [
    "df.head(5)\n",
    "df.tail(5)"
   ]
  },
  {
   "cell_type": "code",
   "execution_count": 5,
   "metadata": {},
   "outputs": [
    {
     "name": "stdout",
     "output_type": "stream",
     "text": [
      "<class 'pandas.core.frame.DataFrame'>\n",
      "RangeIndex: 768 entries, 0 to 767\n",
      "Data columns (total 9 columns):\n",
      " #   Column                    Non-Null Count  Dtype  \n",
      "---  ------                    --------------  -----  \n",
      " 0   Pregnancies               768 non-null    int64  \n",
      " 1   Glucose                   768 non-null    int64  \n",
      " 2   BloodPressure             768 non-null    int64  \n",
      " 3   SkinThickness             768 non-null    int64  \n",
      " 4   Insulin                   768 non-null    int64  \n",
      " 5   BMI                       768 non-null    float64\n",
      " 6   DiabetesPedigreeFunction  768 non-null    float64\n",
      " 7   Age                       768 non-null    int64  \n",
      " 8   Outcome                   768 non-null    int64  \n",
      "dtypes: float64(2), int64(7)\n",
      "memory usage: 54.1 KB\n"
     ]
    }
   ],
   "source": [
    "df.info()"
   ]
  },
  {
   "cell_type": "markdown",
   "metadata": {},
   "source": [
    "# Check the Dataset"
   ]
  },
  {
   "cell_type": "code",
   "execution_count": 6,
   "metadata": {},
   "outputs": [
    {
     "name": "stdout",
     "output_type": "stream",
     "text": [
      "Perform checks:\n",
      "\n",
      "Any NULL value in the dataset (True=there is Null)?\n",
      "False\n",
      "\n",
      "=-=-=-=-=-=-=-=-=-=-=-=-=-=-=-=-=-=-\n",
      "Null values count in each feature:\n",
      "\n",
      "Pregnancies                 0\n",
      "Glucose                     0\n",
      "BloodPressure               0\n",
      "SkinThickness               0\n",
      "Insulin                     0\n",
      "BMI                         0\n",
      "DiabetesPedigreeFunction    0\n",
      "Age                         0\n",
      "Outcome                     0\n",
      "dtype: int64\n",
      "\n",
      "=-=-=-=-=-=-=-=-=-=-=-=-=-=-=-=-=-=-\n",
      "Any cell is missing in table (True=there is missing cell)?\n",
      "False\n"
     ]
    }
   ],
   "source": [
    "#check for null - looks like there is none\n",
    "print('Perform checks:\\n')\n",
    "print('Any NULL value in the dataset (True=there is Null)?')\n",
    "print(df.isnull().values.any())\n",
    "\n",
    "print('\\n=-=-=-=-=-=-=-=-=-=-=-=-=-=-=-=-=-=-')\n",
    "print('Null values count in each feature:\\n')\n",
    "print(df.isnull().sum())\n",
    "\n",
    "#check for any cell that is missing in dataframe - look like no missing cell\n",
    "print('\\n=-=-=-=-=-=-=-=-=-=-=-=-=-=-=-=-=-=-')\n",
    "print('Any cell is missing in table (True=there is missing cell)?')\n",
    "print(df.isna().any().any())"
   ]
  },
  {
   "cell_type": "code",
   "execution_count": 7,
   "metadata": {},
   "outputs": [
    {
     "name": "stdout",
     "output_type": "stream",
     "text": [
      "=-=-=-=-=-=-=-=-=-=-=-=-=-=-=-=-=-=-\n",
      "Check zero value cell in the able.\n"
     ]
    },
    {
     "data": {
      "text/plain": [
       "Pregnancies                 111\n",
       "Glucose                       5\n",
       "BloodPressure                35\n",
       "SkinThickness               227\n",
       "Insulin                     374\n",
       "BMI                          11\n",
       "DiabetesPedigreeFunction      0\n",
       "Age                           0\n",
       "Outcome                     500\n",
       "dtype: int64"
      ]
     },
     "execution_count": 7,
     "metadata": {},
     "output_type": "execute_result"
    }
   ],
   "source": [
    "print('=-=-=-=-=-=-=-=-=-=-=-=-=-=-=-=-=-=-')\n",
    "print('Check zero value cell in the able.')\n",
    "df.eq(0).sum()"
   ]
  },
  {
   "cell_type": "markdown",
   "metadata": {},
   "source": [
    "# Replace Zero Values"
   ]
  },
  {
   "cell_type": "code",
   "execution_count": 8,
   "metadata": {},
   "outputs": [
    {
     "name": "stdout",
     "output_type": "stream",
     "text": [
      "Zero value cell is replaced by its median.\n"
     ]
    }
   ],
   "source": [
    "df[['Glucose', 'BloodPressure', 'SkinThickness', \n",
    "    'Insulin', 'BMI', 'DiabetesPedigreeFunction', 'Age']] = \\\n",
    "df[['Glucose', 'BloodPressure', 'SkinThickness', \n",
    "    'Insulin', 'BMI', 'DiabetesPedigreeFunction', 'Age']].replace(0, np.NaN)\n",
    "\n",
    "# use the median to fill out the zero value cells\n",
    "df.fillna(df.median(axis=0), inplace=True)\n",
    "print('Zero value cell is replaced by its median.')"
   ]
  },
  {
   "cell_type": "code",
   "execution_count": 9,
   "metadata": {},
   "outputs": [
    {
     "name": "stdout",
     "output_type": "stream",
     "text": [
      "=-=-=-=-=-=-=-=-=-=-=-=-=-=-=-=-=-=-\n",
      "Check AGAIN for zero value cell.\n"
     ]
    },
    {
     "data": {
      "text/plain": [
       "Pregnancies                 111\n",
       "Glucose                       0\n",
       "BloodPressure                 0\n",
       "SkinThickness                 0\n",
       "Insulin                       0\n",
       "BMI                           0\n",
       "DiabetesPedigreeFunction      0\n",
       "Age                           0\n",
       "Outcome                     500\n",
       "dtype: int64"
      ]
     },
     "execution_count": 9,
     "metadata": {},
     "output_type": "execute_result"
    }
   ],
   "source": [
    "print('=-=-=-=-=-=-=-=-=-=-=-=-=-=-=-=-=-=-')\n",
    "print('Check AGAIN for zero value cell.')\n",
    "df.eq(0).sum()"
   ]
  },
  {
   "cell_type": "markdown",
   "metadata": {},
   "source": [
    "# Data Description"
   ]
  },
  {
   "cell_type": "code",
   "execution_count": 10,
   "metadata": {},
   "outputs": [
    {
     "data": {
      "text/html": [
       "<div>\n",
       "<style scoped>\n",
       "    .dataframe tbody tr th:only-of-type {\n",
       "        vertical-align: middle;\n",
       "    }\n",
       "\n",
       "    .dataframe tbody tr th {\n",
       "        vertical-align: top;\n",
       "    }\n",
       "\n",
       "    .dataframe thead th {\n",
       "        text-align: right;\n",
       "    }\n",
       "</style>\n",
       "<table border=\"1\" class=\"dataframe\">\n",
       "  <thead>\n",
       "    <tr style=\"text-align: right;\">\n",
       "      <th></th>\n",
       "      <th>count</th>\n",
       "      <th>mean</th>\n",
       "      <th>std</th>\n",
       "      <th>min</th>\n",
       "      <th>max</th>\n",
       "      <th>25%</th>\n",
       "      <th>50%</th>\n",
       "      <th>75%</th>\n",
       "    </tr>\n",
       "  </thead>\n",
       "  <tbody>\n",
       "    <tr>\n",
       "      <th>Pregnancies</th>\n",
       "      <td>768.0</td>\n",
       "      <td>3.845052</td>\n",
       "      <td>3.369578</td>\n",
       "      <td>0.000</td>\n",
       "      <td>17.00</td>\n",
       "      <td>1.00000</td>\n",
       "      <td>3.0000</td>\n",
       "      <td>6.00000</td>\n",
       "    </tr>\n",
       "    <tr>\n",
       "      <th>Glucose</th>\n",
       "      <td>768.0</td>\n",
       "      <td>121.656250</td>\n",
       "      <td>30.438286</td>\n",
       "      <td>44.000</td>\n",
       "      <td>199.00</td>\n",
       "      <td>99.75000</td>\n",
       "      <td>117.0000</td>\n",
       "      <td>140.25000</td>\n",
       "    </tr>\n",
       "    <tr>\n",
       "      <th>BloodPressure</th>\n",
       "      <td>768.0</td>\n",
       "      <td>72.386719</td>\n",
       "      <td>12.096642</td>\n",
       "      <td>24.000</td>\n",
       "      <td>122.00</td>\n",
       "      <td>64.00000</td>\n",
       "      <td>72.0000</td>\n",
       "      <td>80.00000</td>\n",
       "    </tr>\n",
       "    <tr>\n",
       "      <th>SkinThickness</th>\n",
       "      <td>768.0</td>\n",
       "      <td>29.108073</td>\n",
       "      <td>8.791221</td>\n",
       "      <td>7.000</td>\n",
       "      <td>99.00</td>\n",
       "      <td>25.00000</td>\n",
       "      <td>29.0000</td>\n",
       "      <td>32.00000</td>\n",
       "    </tr>\n",
       "    <tr>\n",
       "      <th>Insulin</th>\n",
       "      <td>768.0</td>\n",
       "      <td>140.671875</td>\n",
       "      <td>86.383060</td>\n",
       "      <td>14.000</td>\n",
       "      <td>846.00</td>\n",
       "      <td>121.50000</td>\n",
       "      <td>125.0000</td>\n",
       "      <td>127.25000</td>\n",
       "    </tr>\n",
       "    <tr>\n",
       "      <th>BMI</th>\n",
       "      <td>768.0</td>\n",
       "      <td>32.455208</td>\n",
       "      <td>6.875177</td>\n",
       "      <td>18.200</td>\n",
       "      <td>67.10</td>\n",
       "      <td>27.50000</td>\n",
       "      <td>32.3000</td>\n",
       "      <td>36.60000</td>\n",
       "    </tr>\n",
       "    <tr>\n",
       "      <th>DiabetesPedigreeFunction</th>\n",
       "      <td>768.0</td>\n",
       "      <td>0.471876</td>\n",
       "      <td>0.331329</td>\n",
       "      <td>0.078</td>\n",
       "      <td>2.42</td>\n",
       "      <td>0.24375</td>\n",
       "      <td>0.3725</td>\n",
       "      <td>0.62625</td>\n",
       "    </tr>\n",
       "    <tr>\n",
       "      <th>Age</th>\n",
       "      <td>768.0</td>\n",
       "      <td>33.240885</td>\n",
       "      <td>11.760232</td>\n",
       "      <td>21.000</td>\n",
       "      <td>81.00</td>\n",
       "      <td>24.00000</td>\n",
       "      <td>29.0000</td>\n",
       "      <td>41.00000</td>\n",
       "    </tr>\n",
       "    <tr>\n",
       "      <th>Outcome</th>\n",
       "      <td>768.0</td>\n",
       "      <td>0.348958</td>\n",
       "      <td>0.476951</td>\n",
       "      <td>0.000</td>\n",
       "      <td>1.00</td>\n",
       "      <td>0.00000</td>\n",
       "      <td>0.0000</td>\n",
       "      <td>1.00000</td>\n",
       "    </tr>\n",
       "  </tbody>\n",
       "</table>\n",
       "</div>"
      ],
      "text/plain": [
       "                          count        mean        std     min     max  \\\n",
       "Pregnancies               768.0    3.845052   3.369578   0.000   17.00   \n",
       "Glucose                   768.0  121.656250  30.438286  44.000  199.00   \n",
       "BloodPressure             768.0   72.386719  12.096642  24.000  122.00   \n",
       "SkinThickness             768.0   29.108073   8.791221   7.000   99.00   \n",
       "Insulin                   768.0  140.671875  86.383060  14.000  846.00   \n",
       "BMI                       768.0   32.455208   6.875177  18.200   67.10   \n",
       "DiabetesPedigreeFunction  768.0    0.471876   0.331329   0.078    2.42   \n",
       "Age                       768.0   33.240885  11.760232  21.000   81.00   \n",
       "Outcome                   768.0    0.348958   0.476951   0.000    1.00   \n",
       "\n",
       "                                25%       50%        75%  \n",
       "Pregnancies                 1.00000    3.0000    6.00000  \n",
       "Glucose                    99.75000  117.0000  140.25000  \n",
       "BloodPressure              64.00000   72.0000   80.00000  \n",
       "SkinThickness              25.00000   29.0000   32.00000  \n",
       "Insulin                   121.50000  125.0000  127.25000  \n",
       "BMI                        27.50000   32.3000   36.60000  \n",
       "DiabetesPedigreeFunction    0.24375    0.3725    0.62625  \n",
       "Age                        24.00000   29.0000   41.00000  \n",
       "Outcome                     0.00000    0.0000    1.00000  "
      ]
     },
     "execution_count": 10,
     "metadata": {},
     "output_type": "execute_result"
    }
   ],
   "source": [
    "descT = df.describe().transpose()\n",
    "cols = list(descT)\n",
    "\n",
    "#move 'max' column next to 'min' column for easier visual comparison\n",
    "cols.insert(cols.index('25%'), cols.pop(cols.index('max')))\n",
    "descT = descT.loc[:, cols]\n",
    "descT"
   ]
  },
  {
   "cell_type": "markdown",
   "metadata": {},
   "source": [
    "# Dataset Visualisation"
   ]
  },
  {
   "cell_type": "code",
   "execution_count": 11,
   "metadata": {},
   "outputs": [
    {
     "data": {
      "text/plain": [
       "array([[<matplotlib.axes._subplots.AxesSubplot object at 0x000001DE602C4B48>,\n",
       "        <matplotlib.axes._subplots.AxesSubplot object at 0x000001DE60A19A48>,\n",
       "        <matplotlib.axes._subplots.AxesSubplot object at 0x000001DE60A47608>],\n",
       "       [<matplotlib.axes._subplots.AxesSubplot object at 0x000001DE60A758C8>,\n",
       "        <matplotlib.axes._subplots.AxesSubplot object at 0x000001DE60A9FF48>,\n",
       "        <matplotlib.axes._subplots.AxesSubplot object at 0x000001DE60AD03C8>],\n",
       "       [<matplotlib.axes._subplots.AxesSubplot object at 0x000001DE60AFCA48>,\n",
       "        <matplotlib.axes._subplots.AxesSubplot object at 0x000001DE60B2B108>,\n",
       "        <matplotlib.axes._subplots.AxesSubplot object at 0x000001DE60B33208>]],\n",
       "      dtype=object)"
      ]
     },
     "execution_count": 11,
     "metadata": {},
     "output_type": "execute_result"
    },
    {
     "data": {
      "image/png": "[encoded data removed]",
      "text/plain": [
       "<Figure size 720x720 with 9 Axes>"
      ]
     },
     "metadata": {
      "needs_background": "light"
     },
     "output_type": "display_data"
    }
   ],
   "source": [
    "df.hist(bins=20, figsize=(10,10))\n",
    "\n",
    "#looking at the 'pregnancies' histogram, there zero value\n",
    "#This is reasonable as it is likely that a woman has never pregnant"
   ]
  },
  {
   "cell_type": "markdown",
   "metadata": {},
   "source": [
    "# Class Imbalance"
   ]
  },
  {
   "cell_type": "code",
   "execution_count": 12,
   "metadata": {},
   "outputs": [
    {
     "name": "stdout",
     "output_type": "stream",
     "text": [
      "Class imbalance visualisation.\n"
     ]
    },
    {
     "data": {
      "text/plain": [
       "(0, 600)"
      ]
     },
     "execution_count": 12,
     "metadata": {},
     "output_type": "execute_result"
    },
    {
     "data": {
      "text/plain": [
       "Text(500, 0.0, '65.1%')"
      ]
     },
     "execution_count": 12,
     "metadata": {},
     "output_type": "execute_result"
    },
    {
     "data": {
      "text/plain": [
       "Text(268, 1.0, '34.9%')"
      ]
     },
     "execution_count": 12,
     "metadata": {},
     "output_type": "execute_result"
    },
    {
     "data": {
      "image/png": "[encoded data removed]",
      "text/plain": [
       "<Figure size 432x288 with 1 Axes>"
      ]
     },
     "metadata": {},
     "output_type": "display_data"
    }
   ],
   "source": [
    "print('Class imbalance visualisation.')\n",
    "\n",
    "#now show it as a horizontal bar chart using percentage\n",
    "sns.set(style=\"whitegrid\")\n",
    "\n",
    "ax = sns.countplot(y=\"Outcome\", data=df)\n",
    "ax.set_xlim(0, 600)\n",
    "\n",
    "total = len(df['Outcome'])\n",
    "\n",
    "for p in ax.patches:\n",
    "    percentage = '{:.1f}%'.format(100 * p.get_width()/total)\n",
    "    x = p.get_x() + p.get_width()\n",
    "    y = p.get_y() + p.get_height()/2\n",
    "    ax.annotate(percentage, (x, y))\n",
    "    \n",
    "plt.show()"
   ]
  },
  {
   "cell_type": "markdown",
   "metadata": {},
   "source": [
    "# Correlation Matrix"
   ]
  },
  {
   "cell_type": "code",
   "execution_count": 13,
   "metadata": {},
   "outputs": [
    {
     "data": {
      "text/plain": [
       "<matplotlib.axes._subplots.AxesSubplot at 0x1de61121508>"
      ]
     },
     "execution_count": 13,
     "metadata": {},
     "output_type": "execute_result"
    },
    {
     "data": {
      "image/png": "[encoded data removed]",
      "text/plain": [
       "<Figure size 576x432 with 2 Axes>"
      ]
     },
     "metadata": {},
     "output_type": "display_data"
    }
   ],
   "source": [
    "#plot the correlation as heatmap\n",
    "corr = df.corr(method='pearson')\n",
    "\n",
    "_, ax = plt.subplots(figsize=(8, 6))\n",
    "\n",
    "mask = np.triu(corr, k=1)\n",
    "sns.heatmap(corr, fmt=\".2f\", annot=True, vmin=-1, vmax=1, center= 0, cmap='RdBu_r', mask=mask, ax=ax)\n"
   ]
  },
  {
   "cell_type": "code",
   "execution_count": 14,
   "metadata": {},
   "outputs": [
    {
     "data": {
      "text/plain": [
       "Outcome                     1.000000\n",
       "Glucose                     0.492782\n",
       "BMI                         0.312038\n",
       "Age                         0.238356\n",
       "Pregnancies                 0.221898\n",
       "SkinThickness               0.214873\n",
       "Insulin                     0.203790\n",
       "DiabetesPedigreeFunction    0.173844\n",
       "BloodPressure               0.165723\n",
       "Name: Outcome, dtype: float64"
      ]
     },
     "execution_count": 14,
     "metadata": {},
     "output_type": "execute_result"
    }
   ],
   "source": [
    "corr.nlargest(9, 'Outcome').Outcome\n",
    "\n",
    "# notice that order of feature importances are:"
   ]
  },
  {
   "cell_type": "code",
   "execution_count": 15,
   "metadata": {},
   "outputs": [],
   "source": [
    "cname = ['Glucose', 'BMI', 'Age', 'Pregnancies'] \n",
    "#cname = df.columns[:-1]\n",
    "\n",
    "X = df[cname].values\n",
    "y = df.iloc[:, 8:].values\n",
    "y = np.squeeze(y)"
   ]
  },
  {
   "cell_type": "code",
   "execution_count": 16,
   "metadata": {},
   "outputs": [
    {
     "name": "stdout",
     "output_type": "stream",
     "text": [
      "(514, 4)\n",
      "(514,)\n",
      "(254, 4)\n",
      "(254,)\n"
     ]
    }
   ],
   "source": [
    "from sklearn.model_selection import train_test_split\n",
    "\n",
    "X_train, X_test, y_train, y_test = train_test_split(X, y, test_size=0.33, random_state=42, stratify=df.Outcome)\n",
    "\n",
    "print(X_train.shape)\n",
    "print(y_train.shape)\n",
    "print(X_test.shape)\n",
    "print(y_test.shape)\n"
   ]
  },
  {
   "cell_type": "code",
   "execution_count": 17,
   "metadata": {},
   "outputs": [
    {
     "data": {
      "text/plain": [
       "StandardScaler(copy=True, with_mean=True, with_std=True)"
      ]
     },
     "execution_count": 17,
     "metadata": {},
     "output_type": "execute_result"
    }
   ],
   "source": [
    "from sklearn.preprocessing import StandardScaler\n",
    "\n",
    "scaler = StandardScaler()\n",
    "scaler.fit(X_train)\n",
    "X_train = scaler.transform(X_train)\n",
    "X_test = scaler.transform(X_test)\n"
   ]
  },
  {
   "cell_type": "code",
   "execution_count": 18,
   "metadata": {},
   "outputs": [
    {
     "data": {
      "text/plain": [
       "numpy.ndarray"
      ]
     },
     "execution_count": 18,
     "metadata": {},
     "output_type": "execute_result"
    },
    {
     "data": {
      "text/plain": [
       "numpy.ndarray"
      ]
     },
     "execution_count": 18,
     "metadata": {},
     "output_type": "execute_result"
    },
    {
     "data": {
      "text/plain": [
       "(514, 4)"
      ]
     },
     "execution_count": 18,
     "metadata": {},
     "output_type": "execute_result"
    },
    {
     "data": {
      "text/plain": [
       "(254, 4)"
      ]
     },
     "execution_count": 18,
     "metadata": {},
     "output_type": "execute_result"
    }
   ],
   "source": [
    "type(X_train)\n",
    "type(X_test)\n",
    "X_train.shape\n",
    "X_test.shape"
   ]
  },
  {
   "cell_type": "markdown",
   "metadata": {},
   "source": [
    "# Model Selection"
   ]
  },
  {
   "cell_type": "code",
   "execution_count": 19,
   "metadata": {},
   "outputs": [
    {
     "name": "stdout",
     "output_type": "stream",
     "text": [
      "Perform preliminary model selection:\n"
     ]
    },
    {
     "data": {
      "text/html": [
       "<style  type=\"text/css\" >\n",
       "</style><table id=\"T_0163b0da_4e41_11ea_89b9_4851b77d7c0f\" ><thead>    <tr>        <th class=\"col_heading level0 col0\" >Classifier</th>        <th class=\"col_heading level0 col1\" >ROC_AUC</th>        <th class=\"col_heading level0 col2\" >STD</th>    </tr></thead><tbody>\n",
       "                <tr>\n",
       "                                <td id=\"T_0163b0da_4e41_11ea_89b9_4851b77d7c0frow0_col0\" class=\"data row0 col0\" >LogisticRegression</td>\n",
       "                        <td id=\"T_0163b0da_4e41_11ea_89b9_4851b77d7c0frow0_col1\" class=\"data row0 col1\" >0.833168</td>\n",
       "                        <td id=\"T_0163b0da_4e41_11ea_89b9_4851b77d7c0frow0_col2\" class=\"data row0 col2\" >0.049642</td>\n",
       "            </tr>\n",
       "            <tr>\n",
       "                                <td id=\"T_0163b0da_4e41_11ea_89b9_4851b77d7c0frow1_col0\" class=\"data row1 col0\" >GaussianNB</td>\n",
       "                        <td id=\"T_0163b0da_4e41_11ea_89b9_4851b77d7c0frow1_col1\" class=\"data row1 col1\" >0.832539</td>\n",
       "                        <td id=\"T_0163b0da_4e41_11ea_89b9_4851b77d7c0frow1_col2\" class=\"data row1 col2\" >0.043438</td>\n",
       "            </tr>\n",
       "            <tr>\n",
       "                                <td id=\"T_0163b0da_4e41_11ea_89b9_4851b77d7c0frow2_col0\" class=\"data row2 col0\" >SVC</td>\n",
       "                        <td id=\"T_0163b0da_4e41_11ea_89b9_4851b77d7c0frow2_col1\" class=\"data row2 col1\" >0.823197</td>\n",
       "                        <td id=\"T_0163b0da_4e41_11ea_89b9_4851b77d7c0frow2_col2\" class=\"data row2 col2\" >0.042369</td>\n",
       "            </tr>\n",
       "            <tr>\n",
       "                                <td id=\"T_0163b0da_4e41_11ea_89b9_4851b77d7c0frow3_col0\" class=\"data row3 col0\" >XGBClassifier</td>\n",
       "                        <td id=\"T_0163b0da_4e41_11ea_89b9_4851b77d7c0frow3_col1\" class=\"data row3 col1\" >0.821290</td>\n",
       "                        <td id=\"T_0163b0da_4e41_11ea_89b9_4851b77d7c0frow3_col2\" class=\"data row3 col2\" >0.043879</td>\n",
       "            </tr>\n",
       "            <tr>\n",
       "                                <td id=\"T_0163b0da_4e41_11ea_89b9_4851b77d7c0frow4_col0\" class=\"data row4 col0\" >KNeighborsClassifier</td>\n",
       "                        <td id=\"T_0163b0da_4e41_11ea_89b9_4851b77d7c0frow4_col1\" class=\"data row4 col1\" >0.792719</td>\n",
       "                        <td id=\"T_0163b0da_4e41_11ea_89b9_4851b77d7c0frow4_col2\" class=\"data row4 col2\" >0.031218</td>\n",
       "            </tr>\n",
       "            <tr>\n",
       "                                <td id=\"T_0163b0da_4e41_11ea_89b9_4851b77d7c0frow5_col0\" class=\"data row5 col0\" >RandomForestClassifier</td>\n",
       "                        <td id=\"T_0163b0da_4e41_11ea_89b9_4851b77d7c0frow5_col1\" class=\"data row5 col1\" >0.790302</td>\n",
       "                        <td id=\"T_0163b0da_4e41_11ea_89b9_4851b77d7c0frow5_col2\" class=\"data row5 col2\" >0.037403</td>\n",
       "            </tr>\n",
       "            <tr>\n",
       "                                <td id=\"T_0163b0da_4e41_11ea_89b9_4851b77d7c0frow6_col0\" class=\"data row6 col0\" >DummyClassifier</td>\n",
       "                        <td id=\"T_0163b0da_4e41_11ea_89b9_4851b77d7c0frow6_col1\" class=\"data row6 col1\" >0.510763</td>\n",
       "                        <td id=\"T_0163b0da_4e41_11ea_89b9_4851b77d7c0frow6_col2\" class=\"data row6 col2\" >0.085026</td>\n",
       "            </tr>\n",
       "    </tbody></table>"
      ],
      "text/plain": [
       "<pandas.io.formats.style.Styler at 0x1de614f6c88>"
      ]
     },
     "execution_count": 19,
     "metadata": {},
     "output_type": "execute_result"
    }
   ],
   "source": [
    "from sklearn import model_selection\n",
    "\n",
    "from sklearn.dummy import DummyClassifier\n",
    "from sklearn.neighbors import KNeighborsClassifier\n",
    "from sklearn.svm import SVC\n",
    "from sklearn.svm import LinearSVC\n",
    "from sklearn.linear_model import LogisticRegression\n",
    "\n",
    "from sklearn.tree import DecisionTreeClassifier\n",
    "\n",
    "from sklearn.ensemble import RandomForestClassifier\n",
    "from sklearn.ensemble import AdaBoostClassifier\n",
    "from sklearn.ensemble import GradientBoostingClassifier\n",
    "from sklearn.ensemble import BaggingClassifier\n",
    "\n",
    "from sklearn.naive_bayes import GaussianNB\n",
    "from sklearn.naive_bayes import BernoulliNB\n",
    "\n",
    "from xgboost import XGBClassifier\n",
    "\n",
    "import warnings\n",
    "warnings.filterwarnings('ignore')\n",
    "\n",
    "rowsList=[]\n",
    "\n",
    "print('Perform preliminary model selection:')\n",
    "\n",
    "for model in [\n",
    "    DummyClassifier,\n",
    "    GaussianNB,\n",
    "    KNeighborsClassifier,\n",
    "    LogisticRegression,\n",
    "    RandomForestClassifier,\n",
    "    SVC,\n",
    "    XGBClassifier]:\n",
    "    \n",
    "    kfold = model_selection.KFold(n_splits=10, random_state=42)\n",
    "    classifier = model()\n",
    "    result = model_selection.cross_val_score(classifier, X_train, y_train, scoring='roc_auc', cv=kfold)\n",
    "    dict = {'Classifier': model.__name__, 'ROC_AUC': result.mean(), 'STD': result.std()}\n",
    "    rowsList.append(dict)\n",
    "\n",
    "dfModelRanking = pd.DataFrame(rowsList)\n",
    "dfModelRanking.sort_values(by='ROC_AUC', ascending=False).style.hide_index()"
   ]
  },
  {
   "cell_type": "markdown",
   "metadata": {},
   "source": [
    "# Model Evaluation"
   ]
  },
  {
   "cell_type": "code",
   "execution_count": 20,
   "metadata": {},
   "outputs": [
    {
     "name": "stdout",
     "output_type": "stream",
     "text": [
      "Models are now narrowed to three:\n",
      "\n",
      "-=-=-=XGBClassifier-=-=-=\n",
      "ROC AUC = 72.72%\n",
      "\n",
      "Predicted    0   1  All\n",
      "True                   \n",
      "0          138  27  165\n",
      "1           34  55   89\n",
      "All        172  82  254\n",
      "\n",
      "-=-=-=LogisticRegression-=-=-=\n",
      "ROC AUC = 70.21%\n",
      "\n",
      "Predicted    0   1  All\n",
      "True                   \n",
      "0          139  26  165\n",
      "1           39  50   89\n",
      "All        178  76  254\n",
      "\n",
      "-=-=-=GaussianNB-=-=-=\n",
      "ROC AUC = 69.35%\n",
      "\n",
      "Predicted    0   1  All\n",
      "True                   \n",
      "0          138  27  165\n",
      "1           40  49   89\n",
      "All        178  76  254\n"
     ]
    }
   ],
   "source": [
    "#narrow down the model selection to top 3 for evaluation\n",
    "from sklearn.metrics import auc, roc_auc_score, roc_curve, confusion_matrix\n",
    "\n",
    "print('Models are now narrowed to three:')\n",
    "\n",
    "clf_list = [\n",
    "    XGBClassifier,\n",
    "    LogisticRegression,\n",
    "    GaussianNB]\n",
    "\n",
    "def iterateAndTestModelAccuracy(classifier_testList=DummyClassifier):\n",
    "    for model in classifier_testList: \n",
    "        np.random.seed(42)\n",
    "        clf = model()\n",
    "        clf.fit(X_train, y_train)\n",
    "        predict = clf.predict(X_test)\n",
    "        accu = roc_auc_score(y_test, predict)\n",
    "        cm = confusion_matrix(y_test, predict)\n",
    "        print('\\n-=-=-={}-=-=-='.format(model.__name__))\n",
    "        print('ROC AUC = {}%\\n'.format(round(accu*100, 2)))\n",
    "        print(pd.crosstab(y_test, predict, rownames=['True'], colnames=['Predicted'], margins=True))\n",
    "\n",
    "iterateAndTestModelAccuracy(clf_list)"
   ]
  },
  {
   "cell_type": "code",
   "execution_count": 21,
   "metadata": {},
   "outputs": [],
   "source": [
    "from sklearn.model_selection import GridSearchCV\n",
    "\n",
    "def findModelBestParams(classifier, gParams):\n",
    "    model = classifier()\n",
    "    gs = GridSearchCV(estimator=model, \n",
    "                  param_grid=gParams, \n",
    "                  scoring='roc_auc',\n",
    "                  cv=10,\n",
    "                  n_jobs=-1)\n",
    "    gs.fit(X_train, y_train)\n",
    "    print('-=-=-={}-=-=-=-'.format(classifier.__name__))\n",
    "    print('Best parameters => {}'.format(gs.best_params_))\n",
    "    print('Best score => {}'.format(gs.best_score_))\n",
    "    return gs.best_params_\n"
   ]
  },
  {
   "cell_type": "code",
   "execution_count": 22,
   "metadata": {},
   "outputs": [],
   "source": [
    "#Find best parameters XGBoost"
   ]
  },
  {
   "cell_type": "code",
   "execution_count": 23,
   "metadata": {},
   "outputs": [
    {
     "name": "stdout",
     "output_type": "stream",
     "text": [
      "Find best paramters for XGBoost.\n",
      "-=-=-=XGBClassifier-=-=-=-\n",
      "Best parameters => {'colsample_bytree': 0.6, 'gamma': 0, 'max_depth': 2, 'min_child_weight': 1, 'subsample': 0.8, 'verbosity': 0}\n",
      "Best score => 0.8373128168848013\n"
     ]
    }
   ],
   "source": [
    "gridParams= {\n",
    "    'max_depth': [2],\n",
    "    'min_child_weight': [1],\n",
    "    'gamma': [0],\n",
    "    'subsample': [0.8],\n",
    "    'colsample_bytree' : [0.6],\n",
    "    'verbosity' : [0]\n",
    "}\n",
    "\n",
    "print('Find best paramters for XGBoost.')\n",
    "xgb_bestParams = findModelBestParams(XGBClassifier, gridParams)"
   ]
  },
  {
   "cell_type": "code",
   "execution_count": 24,
   "metadata": {},
   "outputs": [
    {
     "data": {
      "text/plain": [
       "XGBClassifier(base_score=0.5, booster='gbtree', colsample_bylevel=1,\n",
       "              colsample_bynode=1, colsample_bytree=0.6, gamma=0,\n",
       "              learning_rate=0.1, max_delta_step=0, max_depth=2,\n",
       "              min_child_weight=1, missing=None, n_estimators=100, n_jobs=1,\n",
       "              nthread=None, objective='binary:logistic', random_state=0,\n",
       "              reg_alpha=0, reg_lambda=1, scale_pos_weight=1, seed=None,\n",
       "              silent=None, subsample=0.8, verbosity=0)"
      ]
     },
     "execution_count": 24,
     "metadata": {},
     "output_type": "execute_result"
    },
    {
     "name": "stdout",
     "output_type": "stream",
     "text": [
      "-=-=-=XGBoost-=-=-=\n",
      "ROC AUC = 83.46%\n",
      "\n"
     ]
    },
    {
     "data": {
      "text/html": [
       "<div>\n",
       "<style scoped>\n",
       "    .dataframe tbody tr th:only-of-type {\n",
       "        vertical-align: middle;\n",
       "    }\n",
       "\n",
       "    .dataframe tbody tr th {\n",
       "        vertical-align: top;\n",
       "    }\n",
       "\n",
       "    .dataframe thead th {\n",
       "        text-align: right;\n",
       "    }\n",
       "</style>\n",
       "<table border=\"1\" class=\"dataframe\">\n",
       "  <thead>\n",
       "    <tr style=\"text-align: right;\">\n",
       "      <th>Predicted</th>\n",
       "      <th>0</th>\n",
       "      <th>1</th>\n",
       "      <th>All</th>\n",
       "    </tr>\n",
       "    <tr>\n",
       "      <th>True</th>\n",
       "      <th></th>\n",
       "      <th></th>\n",
       "      <th></th>\n",
       "    </tr>\n",
       "  </thead>\n",
       "  <tbody>\n",
       "    <tr>\n",
       "      <th>0</th>\n",
       "      <td>138</td>\n",
       "      <td>27</td>\n",
       "      <td>165</td>\n",
       "    </tr>\n",
       "    <tr>\n",
       "      <th>1</th>\n",
       "      <td>40</td>\n",
       "      <td>49</td>\n",
       "      <td>89</td>\n",
       "    </tr>\n",
       "    <tr>\n",
       "      <th>All</th>\n",
       "      <td>178</td>\n",
       "      <td>76</td>\n",
       "      <td>254</td>\n",
       "    </tr>\n",
       "  </tbody>\n",
       "</table>\n",
       "</div>"
      ],
      "text/plain": [
       "Predicted    0   1  All\n",
       "True                   \n",
       "0          138  27  165\n",
       "1           40  49   89\n",
       "All        178  76  254"
      ]
     },
     "execution_count": 24,
     "metadata": {},
     "output_type": "execute_result"
    }
   ],
   "source": [
    "xgb_classifier = XGBClassifier (**xgb_bestParams)\n",
    "xgb_classifier.fit(X_train, y_train)\n",
    "xgb_predict = xgb_classifier.predict(X_test)\n",
    "\n",
    "xgb_rocauc = roc_auc_score(y_test, xgb_classifier.predict_proba(X_test)[:,1])\n",
    "cm = confusion_matrix(y_test, xgb_predict)\n",
    "print('-=-=-=XGBoost-=-=-=')\n",
    "print('ROC AUC = {}%\\n'.format(round(xgb_rocauc * 100, 2)))\n",
    "pd.crosstab(y_test, xgb_predict, rownames=['True'], colnames=['Predicted'], margins=True)\n"
   ]
  },
  {
   "cell_type": "code",
   "execution_count": 25,
   "metadata": {},
   "outputs": [],
   "source": [
    "#Find best parameters LogisticRegression"
   ]
  },
  {
   "cell_type": "code",
   "execution_count": 26,
   "metadata": {},
   "outputs": [
    {
     "name": "stdout",
     "output_type": "stream",
     "text": [
      "Find best paramters for LogisticRegression.\n",
      "-=-=-=LogisticRegression-=-=-=-\n",
      "Best parameters => {'penalty': 'l2', 'random_state': 42}\n",
      "Best score => 0.8333529851039578\n"
     ]
    }
   ],
   "source": [
    "gridParams= {\n",
    "    'penalty' : ['l1', 'l2'],\n",
    "    'random_state' : [42]\n",
    "}\n",
    "\n",
    "print('Find best paramters for LogisticRegression.')\n",
    "lr_bestParams = findModelBestParams(LogisticRegression, gridParams)"
   ]
  },
  {
   "cell_type": "code",
   "execution_count": 27,
   "metadata": {},
   "outputs": [
    {
     "data": {
      "text/plain": [
       "LogisticRegression(C=1.0, class_weight=None, dual=False, fit_intercept=True,\n",
       "                   intercept_scaling=1, l1_ratio=None, max_iter=100,\n",
       "                   multi_class='warn', n_jobs=None, penalty='l2',\n",
       "                   random_state=42, solver='warn', tol=0.0001, verbose=0,\n",
       "                   warm_start=False)"
      ]
     },
     "execution_count": 27,
     "metadata": {},
     "output_type": "execute_result"
    },
    {
     "name": "stdout",
     "output_type": "stream",
     "text": [
      "-=-=-=LogisticRegression-=-=-=\n",
      "ROC AUC = 82.68%\n"
     ]
    },
    {
     "data": {
      "text/html": [
       "<div>\n",
       "<style scoped>\n",
       "    .dataframe tbody tr th:only-of-type {\n",
       "        vertical-align: middle;\n",
       "    }\n",
       "\n",
       "    .dataframe tbody tr th {\n",
       "        vertical-align: top;\n",
       "    }\n",
       "\n",
       "    .dataframe thead th {\n",
       "        text-align: right;\n",
       "    }\n",
       "</style>\n",
       "<table border=\"1\" class=\"dataframe\">\n",
       "  <thead>\n",
       "    <tr style=\"text-align: right;\">\n",
       "      <th>Predicted</th>\n",
       "      <th>0</th>\n",
       "      <th>1</th>\n",
       "      <th>All</th>\n",
       "    </tr>\n",
       "    <tr>\n",
       "      <th>True</th>\n",
       "      <th></th>\n",
       "      <th></th>\n",
       "      <th></th>\n",
       "    </tr>\n",
       "  </thead>\n",
       "  <tbody>\n",
       "    <tr>\n",
       "      <th>0</th>\n",
       "      <td>139</td>\n",
       "      <td>26</td>\n",
       "      <td>165</td>\n",
       "    </tr>\n",
       "    <tr>\n",
       "      <th>1</th>\n",
       "      <td>39</td>\n",
       "      <td>50</td>\n",
       "      <td>89</td>\n",
       "    </tr>\n",
       "    <tr>\n",
       "      <th>All</th>\n",
       "      <td>178</td>\n",
       "      <td>76</td>\n",
       "      <td>254</td>\n",
       "    </tr>\n",
       "  </tbody>\n",
       "</table>\n",
       "</div>"
      ],
      "text/plain": [
       "Predicted    0   1  All\n",
       "True                   \n",
       "0          139  26  165\n",
       "1           39  50   89\n",
       "All        178  76  254"
      ]
     },
     "execution_count": 27,
     "metadata": {},
     "output_type": "execute_result"
    }
   ],
   "source": [
    "lr_classifier = LogisticRegression(**lr_bestParams)\n",
    "lr_classifier.fit(X_train, y_train)\n",
    "lr_predict = lr_classifier.predict(X_test)\n",
    "\n",
    "lr_auc = roc_auc_score(y_test, lr_classifier.predict_proba(X_test)[:,1])\n",
    "cm = confusion_matrix(y_test, lr_predict)\n",
    "print('-=-=-=LogisticRegression-=-=-=')\n",
    "print('ROC AUC = {}%'.format(round(lr_auc * 100, 2)))\n",
    "pd.crosstab(y_test, lr_predict, rownames=['True'], colnames=['Predicted'], margins=True)\n"
   ]
  },
  {
   "cell_type": "code",
   "execution_count": 28,
   "metadata": {},
   "outputs": [],
   "source": [
    "#Find best parameters GaussianNB"
   ]
  },
  {
   "cell_type": "code",
   "execution_count": 29,
   "metadata": {},
   "outputs": [
    {
     "name": "stdout",
     "output_type": "stream",
     "text": [
      "Find best paramters for GaussianNB.\n",
      "-=-=-=GaussianNB-=-=-=-\n",
      "Best parameters => {}\n",
      "Best score => 0.8302381794599694\n"
     ]
    }
   ],
   "source": [
    "gridParams= {\n",
    "}\n",
    "\n",
    "print('Find best paramters for GaussianNB.')\n",
    "gnb_bestParams = findModelBestParams(GaussianNB, gridParams)"
   ]
  },
  {
   "cell_type": "code",
   "execution_count": 30,
   "metadata": {},
   "outputs": [
    {
     "data": {
      "text/plain": [
       "GaussianNB(priors=None, var_smoothing=1e-09)"
      ]
     },
     "execution_count": 30,
     "metadata": {},
     "output_type": "execute_result"
    },
    {
     "name": "stdout",
     "output_type": "stream",
     "text": [
      "-=-=-=GaussianNB-=-=-=\n",
      "ROC AUC = 82.24%\n"
     ]
    },
    {
     "data": {
      "text/html": [
       "<div>\n",
       "<style scoped>\n",
       "    .dataframe tbody tr th:only-of-type {\n",
       "        vertical-align: middle;\n",
       "    }\n",
       "\n",
       "    .dataframe tbody tr th {\n",
       "        vertical-align: top;\n",
       "    }\n",
       "\n",
       "    .dataframe thead th {\n",
       "        text-align: right;\n",
       "    }\n",
       "</style>\n",
       "<table border=\"1\" class=\"dataframe\">\n",
       "  <thead>\n",
       "    <tr style=\"text-align: right;\">\n",
       "      <th>Predicted</th>\n",
       "      <th>0</th>\n",
       "      <th>1</th>\n",
       "      <th>All</th>\n",
       "    </tr>\n",
       "    <tr>\n",
       "      <th>True</th>\n",
       "      <th></th>\n",
       "      <th></th>\n",
       "      <th></th>\n",
       "    </tr>\n",
       "  </thead>\n",
       "  <tbody>\n",
       "    <tr>\n",
       "      <th>0</th>\n",
       "      <td>138</td>\n",
       "      <td>27</td>\n",
       "      <td>165</td>\n",
       "    </tr>\n",
       "    <tr>\n",
       "      <th>1</th>\n",
       "      <td>40</td>\n",
       "      <td>49</td>\n",
       "      <td>89</td>\n",
       "    </tr>\n",
       "    <tr>\n",
       "      <th>All</th>\n",
       "      <td>178</td>\n",
       "      <td>76</td>\n",
       "      <td>254</td>\n",
       "    </tr>\n",
       "  </tbody>\n",
       "</table>\n",
       "</div>"
      ],
      "text/plain": [
       "Predicted    0   1  All\n",
       "True                   \n",
       "0          138  27  165\n",
       "1           40  49   89\n",
       "All        178  76  254"
      ]
     },
     "execution_count": 30,
     "metadata": {},
     "output_type": "execute_result"
    }
   ],
   "source": [
    "gnb_classifier = GaussianNB (**gnb_bestParams)\n",
    "gnb_classifier.fit(X_train, y_train)\n",
    "gnb_predict = gnb_classifier.predict(X_test)\n",
    "\n",
    "gnb_auc = roc_auc_score(y_test, gnb_classifier.predict_proba(X_test)[:,1])\n",
    "cm = confusion_matrix(y_test, gnb_predict)\n",
    "print('-=-=-=GaussianNB-=-=-=')\n",
    "print('ROC AUC = {}%'.format(round(gnb_auc * 100, 2)))\n",
    "pd.crosstab(y_test, gnb_predict, rownames=['True'], colnames=['Predicted'], margins=True)\n"
   ]
  },
  {
   "cell_type": "code",
   "execution_count": 31,
   "metadata": {},
   "outputs": [
    {
     "name": "stdout",
     "output_type": "stream",
     "text": [
      "Using XGBoost as a model to classify the dataset.\n"
     ]
    }
   ],
   "source": [
    "#XGBoost is the winner\n",
    "print ('Using XGBoost as a model to classify the dataset.')"
   ]
  },
  {
   "cell_type": "code",
   "execution_count": 32,
   "metadata": {},
   "outputs": [
    {
     "name": "stdout",
     "output_type": "stream",
     "text": [
      "--- Metrices ---\n",
      "\n",
      "XGBoost:\n",
      "              precision    recall  f1-score   support\n",
      "\n",
      "           0       0.78      0.84      0.80       165\n",
      "           1       0.64      0.55      0.59        89\n",
      "\n",
      "    accuracy                           0.74       254\n",
      "   macro avg       0.71      0.69      0.70       254\n",
      "weighted avg       0.73      0.74      0.73       254\n",
      "\n",
      "-------------------------------------------------------\n",
      "Logistic Regression:\n",
      "              precision    recall  f1-score   support\n",
      "\n",
      "           0       0.78      0.84      0.81       165\n",
      "           1       0.66      0.56      0.61        89\n",
      "\n",
      "    accuracy                           0.74       254\n",
      "   macro avg       0.72      0.70      0.71       254\n",
      "weighted avg       0.74      0.74      0.74       254\n",
      "\n",
      "-------------------------------------------------------\n",
      "GaussianNB:\n",
      "              precision    recall  f1-score   support\n",
      "\n",
      "           0       0.78      0.84      0.80       165\n",
      "           1       0.64      0.55      0.59        89\n",
      "\n",
      "    accuracy                           0.74       254\n",
      "   macro avg       0.71      0.69      0.70       254\n",
      "weighted avg       0.73      0.74      0.73       254\n",
      "\n"
     ]
    }
   ],
   "source": [
    "from sklearn.metrics import classification_report\n",
    "\n",
    "print('--- Metrices ---\\n')\n",
    "print('XGBoost:')\n",
    "print(classification_report(y_true=y_test, y_pred=xgb_predict))\n",
    "print('-------------------------------------------------------')\n",
    "print('Logistic Regression:')\n",
    "print(classification_report(y_true=y_test, y_pred=lr_predict))\n",
    "print('-------------------------------------------------------')\n",
    "print('GaussianNB:')\n",
    "print(classification_report(y_true=y_test, y_pred=gnb_predict))"
   ]
  },
  {
   "cell_type": "code",
   "execution_count": 33,
   "metadata": {},
   "outputs": [
    {
     "name": "stdout",
     "output_type": "stream",
     "text": [
      "0.8346271705822268\n",
      "0.826762002042901\n",
      "0.8224038134150494\n"
     ]
    },
    {
     "data": {
      "text/plain": [
       "<Figure size 432x432 with 0 Axes>"
      ]
     },
     "execution_count": 33,
     "metadata": {},
     "output_type": "execute_result"
    },
    {
     "data": {
      "text/plain": [
       "[<matplotlib.lines.Line2D at 0x1de60f4fa48>]"
      ]
     },
     "execution_count": 33,
     "metadata": {},
     "output_type": "execute_result"
    },
    {
     "data": {
      "text/plain": [
       "[<matplotlib.lines.Line2D at 0x1de616ad588>]"
      ]
     },
     "execution_count": 33,
     "metadata": {},
     "output_type": "execute_result"
    },
    {
     "data": {
      "text/plain": [
       "[<matplotlib.lines.Line2D at 0x1de616b23c8>]"
      ]
     },
     "execution_count": 33,
     "metadata": {},
     "output_type": "execute_result"
    },
    {
     "data": {
      "text/plain": [
       "[<matplotlib.lines.Line2D at 0x1de616b8d88>]"
      ]
     },
     "execution_count": 33,
     "metadata": {},
     "output_type": "execute_result"
    },
    {
     "data": {
      "text/plain": [
       "<matplotlib.legend.Legend at 0x1de616c18c8>"
      ]
     },
     "execution_count": 33,
     "metadata": {},
     "output_type": "execute_result"
    },
    {
     "data": {
      "text/plain": [
       "Text(0.5, 1.0, 'Receiver Operating Characteristic (ROC)')"
      ]
     },
     "execution_count": 33,
     "metadata": {},
     "output_type": "execute_result"
    },
    {
     "data": {
      "text/plain": [
       "Text(0.5, 0, 'False Positive Rate (FPR)')"
      ]
     },
     "execution_count": 33,
     "metadata": {},
     "output_type": "execute_result"
    },
    {
     "data": {
      "text/plain": [
       "Text(0, 0.5, 'True Positive Rate (TPR)')"
      ]
     },
     "execution_count": 33,
     "metadata": {},
     "output_type": "execute_result"
    },
    {
     "data": {
      "image/png": "[encoded data removed]",
      "text/plain": [
       "<Figure size 432x432 with 1 Axes>"
      ]
     },
     "metadata": {},
     "output_type": "display_data"
    }
   ],
   "source": [
    "xgb_probs = xgb_classifier.predict_proba(X_test)\n",
    "xgb_preds = xgb_probs[:,1]\n",
    "xgb_fpr, xgb_tpr, _ = roc_curve(y_test, xgb_preds)\n",
    "xgb_rocauc = auc(xgb_fpr, xgb_tpr)\n",
    "print(xgb_rocauc)\n",
    "\n",
    "lr_probs = lr_classifier.predict_proba(X_test)\n",
    "lr_preds = lr_probs[:,1]\n",
    "lr_fpr, lr_tpr, _ = roc_curve(y_test, lr_preds)\n",
    "lr_rocauc = auc(lr_fpr, lr_tpr)\n",
    "print(lr_rocauc)\n",
    "\n",
    "gnb_probs = gnb_classifier.predict_proba(X_test)\n",
    "gnb_preds = gnb_probs[:,1]\n",
    "gnb_fpr, gnb_tpr, _ = roc_curve(y_test, gnb_preds)\n",
    "gnb_rocauc = auc(gnb_fpr, gnb_tpr)\n",
    "print(gnb_rocauc)\n",
    "\n",
    "plt.figure(figsize=(6, 6))\n",
    "plt.plot([0, 1], [0, 1], 'r--')\n",
    "plt.plot(xgb_fpr, xgb_tpr, 'brown', label='XGBoost %.4f' % xgb_rocauc)\n",
    "plt.plot(lr_fpr, lr_tpr, 'g-', label='LRegression %.4f' % lr_rocauc)\n",
    "plt.plot(gnb_fpr, gnb_tpr, 'b-', label='GaussianNB %.4f' % gnb_rocauc)\n",
    "\n",
    "plt.legend()\n",
    "plt.title('Receiver Operating Characteristic (ROC)')\n",
    "plt.xlabel('False Positive Rate (FPR)')\n",
    "plt.ylabel('True Positive Rate (TPR)')\n",
    "plt.show()\n"
   ]
  },
  {
   "cell_type": "code",
   "execution_count": 34,
   "metadata": {},
   "outputs": [
    {
     "name": "stdout",
     "output_type": "stream",
     "text": [
      "Below show which features are important in the prediction.\n"
     ]
    },
    {
     "data": {
      "text/plain": [
       "[Text(0, 0, 'Glucose'),\n",
       " Text(0, 0, 'BMI'),\n",
       " Text(0, 0, 'Age'),\n",
       " Text(0, 0, 'Pregnancies')]"
      ]
     },
     "execution_count": 34,
     "metadata": {},
     "output_type": "execute_result"
    },
    {
     "data": {
      "text/plain": [
       "Text(0.5, 1.0, 'xgboost.plot_importance(model)')"
      ]
     },
     "execution_count": 34,
     "metadata": {},
     "output_type": "execute_result"
    },
    {
     "data": {
      "image/png": "[encoded data removed]",
      "text/plain": [
       "<Figure size 432x288 with 1 Axes>"
      ]
     },
     "metadata": {},
     "output_type": "display_data"
    }
   ],
   "source": [
    "print(\"Below show which features are important in the prediction.\")\n",
    "xgboost.plot_importance(xgb_classifier).set_yticklabels(cname)\n",
    "plt.title(\"xgboost.plot_importance(model)\")\n",
    "plt.show()"
   ]
  },
  {
   "cell_type": "code",
   "execution_count": 35,
   "metadata": {},
   "outputs": [],
   "source": [
    "#let save the model using pickle"
   ]
  },
  {
   "cell_type": "code",
   "execution_count": 36,
   "metadata": {},
   "outputs": [
    {
     "name": "stdout",
     "output_type": "stream",
     "text": [
      "Save model.\n",
      "C:\\Users\\SengTian\\Downloads\\Temp\\Republic Polytechnic\\Assignment_MachineLearningFundamental\\TIPPAAI_ML_Fundamentals_Koay_Seng_Tian\\model\\pima-indians-xgboost.pkl\n",
      "\n",
      "Save scaler.\n",
      "C:\\Users\\SengTian\\Downloads\\Temp\\Republic Polytechnic\\Assignment_MachineLearningFundamental\\TIPPAAI_ML_Fundamentals_Koay_Seng_Tian\\model\\pima-indians-scaler.pkl\n"
     ]
    }
   ],
   "source": [
    "print('Save model.')\n",
    "model_filename = 'pima-indians-xgboost.pkl'\n",
    "filedir = os.path.join(os.getcwd(), 'model')\n",
    "filepath = os.path.join(filedir, model_filename)\n",
    "pickle.dump (xgb_classifier, open(filepath, 'wb'))\n",
    "print(filepath)\n",
    "\n",
    "print('\\nSave scaler.')\n",
    "scaler_filename = 'pima-indians-scaler.pkl'\n",
    "filedir = os.path.join(os.getcwd(), 'model')\n",
    "filepath = os.path.join(filedir, scaler_filename)\n",
    "pickle.dump (scaler, open(filepath, 'wb'))\n",
    "print(filepath)\n"
   ]
  },
  {
   "cell_type": "code",
   "execution_count": null,
   "metadata": {},
   "outputs": [],
   "source": []
  },
  {
   "cell_type": "code",
   "execution_count": 37,
   "metadata": {},
   "outputs": [],
   "source": [
    "#load the model for testing"
   ]
  },
  {
   "cell_type": "code",
   "execution_count": 38,
   "metadata": {},
   "outputs": [
    {
     "name": "stdout",
     "output_type": "stream",
     "text": [
      "Load model.\n",
      "Load scaler.\n"
     ]
    }
   ],
   "source": [
    "from sklearn.externals import joblib\n",
    "\n",
    "print('Load model.')\n",
    "model_filename='pima-indians-xgboost.pkl'\n",
    "filedir=os.path.join(os.getcwd(), 'model')\n",
    "filepath = os.path.join(filedir, model_filename)\n",
    "loaded_model = pickle.load (open(filepath, 'rb'))\n",
    "\n",
    "print('Load scaler.')\n",
    "scaler_filename = 'pima-indians-scaler.pkl'\n",
    "filedir = os.path.join(os.getcwd(), 'model')\n",
    "filepath = os.path.join(filedir, scaler_filename)\n",
    "loaded_scaler = pickle.load(open(filepath, 'rb'))\n"
   ]
  },
  {
   "cell_type": "code",
   "execution_count": 39,
   "metadata": {},
   "outputs": [],
   "source": [
    "#let's test"
   ]
  },
  {
   "cell_type": "code",
   "execution_count": 40,
   "metadata": {},
   "outputs": [
    {
     "data": {
      "text/plain": [
       "array([[-0.93663504, -0.33330474, -0.89264688, -0.86044341],\n",
       "       [ 0.89074057,  0.13942065,  1.44209745,  0.62567189]])"
      ]
     },
     "execution_count": 40,
     "metadata": {},
     "output_type": "execute_result"
    }
   ],
   "source": [
    "#cn = ['Pregnancies', 'Glucose', 'BloodPressure', 'SkinThickness', 'Insulin', 'BMI', 'DiabetesPedigreeFunction', 'Age']\n",
    "# testData = [\n",
    "#     [6, 148, 72, 35, 0, 33.6, 0.627, 50],\n",
    "#     [93, 70, 31, 23, 0, 30.4, 0.315, 23]\n",
    "# ]\n",
    "\n",
    "#cn=['Glucose', 'BMI', 'Age', 'Pregnancies']\n",
    "testData = [\n",
    "    [93, 30.4, 23, 1],\n",
    "    [148, 33.6, 50, 6]\n",
    "]\n",
    "\n",
    "testData = loaded_scaler.transform(testData)\n",
    "testData"
   ]
  },
  {
   "cell_type": "code",
   "execution_count": 41,
   "metadata": {},
   "outputs": [],
   "source": [
    "def DiabetesLikelihood(xdf):\n",
    "\n",
    "    prediction = loaded_model.predict(xdf)\n",
    "#     print('\\n-=-=-=Prediction=-=-=-=-=-')\n",
    "#     print(x.transpose())\n",
    "#     print('-=-=-=-=-=-=-=-=-=-=-=-=-=')\n",
    "\n",
    "    prediction\n",
    "    if prediction[0] == 1:\n",
    "        print('Diabetes risk is High')\n",
    "    else:\n",
    "        print('Diabetes risk is Low')\n",
    "    confidence = loaded_model.predict_proba(xdf)\n",
    "    print(confidence)\n",
    "    print('Confidence: ' + str(round(confidence[0][prediction[0]] * 100, 2)) + \"%\")\n",
    "        "
   ]
  },
  {
   "cell_type": "code",
   "execution_count": 42,
   "metadata": {},
   "outputs": [
    {
     "data": {
      "text/plain": [
       "array([-0.93663504, -0.33330474, -0.89264688, -0.86044341])"
      ]
     },
     "execution_count": 42,
     "metadata": {},
     "output_type": "execute_result"
    },
    {
     "name": "stdout",
     "output_type": "stream",
     "text": [
      "Diabetes risk is Low\n",
      "[[0.9371199 0.0628801]]\n",
      "Confidence: 93.71%\n"
     ]
    }
   ],
   "source": [
    "testData[0]\n",
    "DiabetesLikelihood([testData[0]])"
   ]
  },
  {
   "cell_type": "code",
   "execution_count": 43,
   "metadata": {},
   "outputs": [
    {
     "data": {
      "text/plain": [
       "array([0.89074057, 0.13942065, 1.44209745, 0.62567189])"
      ]
     },
     "execution_count": 43,
     "metadata": {},
     "output_type": "execute_result"
    },
    {
     "name": "stdout",
     "output_type": "stream",
     "text": [
      "Diabetes risk is High\n",
      "[[0.3397085 0.6602915]]\n",
      "Confidence: 66.03%\n"
     ]
    }
   ],
   "source": [
    "testData[1]\n",
    "DiabetesLikelihood([testData[1]])"
   ]
  },
  {
   "cell_type": "code",
   "execution_count": null,
   "metadata": {},
   "outputs": [],
   "source": []
  }
 ],
 "metadata": {
  "kernelspec": {
   "display_name": "Python 3",
   "language": "python",
   "name": "python3"
  },
  "language_info": {
   "codemirror_mode": {
    "name": "ipython",
    "version": 3
   },
   "file_extension": ".py",
   "mimetype": "text/x-python",
   "name": "python",
   "nbconvert_exporter": "python",
   "pygments_lexer": "ipython3",
   "version": "3.7.6"
  }
 },
 "nbformat": 4,
 "nbformat_minor": 4
}
