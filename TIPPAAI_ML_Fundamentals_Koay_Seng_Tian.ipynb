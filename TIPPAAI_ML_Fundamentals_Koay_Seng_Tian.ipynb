{
 "cells": [
  {
   "cell_type": "markdown",
   "metadata": {},
   "source": [
    "# Introduction\n",
    "Wine is an alcoholic drink typically made from fermented grapes. Yeast consumes the sugar in the grapes and converts it to ethanol, carbon dioxide, and heat. Different varieties of grapes and strains of yeasts produce different styles of wine. These variations result from the complex interactions between the biochemical development of the grape, the reactions involved in fermentation, the grape's growing environment (terroir), and the production process.\n",
    "\n",
    "__Source:__ [Wikipedia](https://en.wikipedia.org/wiki/Winemaking)\n",
    "\n",
    "# Machine Learning Process\n",
    "Cross-Industry Standard Process for Data Mining (CRISP-DM) is a process for doing data mining.  The methodolgy provides a structured approach to planning a data mining project.  It consists of several steps as shown below:\n",
    "- Business Understanding\n",
    "- Data Uderstanding\n",
    "- Data Preparation\n",
    "- Modeling\n",
    "- Evaluation\n",
    "- Deployment\n",
    "\n",
    "This workflow is adopted and followed as much as possible.\n",
    "\n",
    "__Source:__ [CRISP-DM](https://www.sv-europe.com/crisp-dm-methodology/)\n",
    "\n",
    "# Business Understanding\n",
    "\n",
    "### 1) Red Wine Quality Data Set\n",
    "The dataset was downloaded from UCI Macine Learning Repository.  The dataset is about wine quality.\n",
    "The two datasets are related to red and white variants of the Portuguese \"Vinho Verde\" wine.\n",
    "The dataset purpose is to model the wine quality based on physicochemal tests.\n",
    "\n",
    "__Dataset Source:__ [Wine Quality Data Set](https://archive.ics.uci.edu/ml/datasets/Wine+Quality)\n",
    "\n",
    "These datasets can be viewed as a classification or regression task.  For regression task, the model to be developed can be used to predict the quality rating.  For classification task, the model to be developed can be used to predict \"Good\" or \"Excellent\" wine rating.  For this assignment, I will be concentrating on classification task, in particular, based on the red wine dataset.  Final outcome is to predict whether a red wine is good or excellent rating based on the input attributes provided by the user.\n",
    "\n",
    "### 2) Data Familiarisation\n",
    "Red wine dataset consists of eleven input features and the last one is the label.  The input features and label are:\n",
    "1.  Fixed Acidity\n",
    "2.  Volatile Acidity\n",
    "3.  Citric Acid\n",
    "4.  Residual Sugar\n",
    "5.  Chlorides\n",
    "6.  Free Sulfur Dioxide\n",
    "7.  Total Sulfur Dioxide\n",
    "8.  Density\n",
    "9.  pH\n",
    "10. Sulphates\n",
    "11. Alcohol\n",
    "12. Quality\n",
    "\n",
    "There are already many write-ups regarding the input features.  Below are the reference sources for a better glimpse of the data, if a better understanding is required.\n",
    "\n",
    "**Note:** I am not a [wine aficionado or connoisseur](https://www.quora.com/What-is-a-synonym-for-wine-expert).\n",
    "\n",
    "[Kaggle-1](https://www.kaggle.com/gpreda/red-wine-quality-simple-eda-and-prediction)\n",
    "[Kaggle-2](https://www.kaggle.com/ecedolen/classification-logistic-regression-wine-quality)\n",
    "[MacArdle](https://markmacardle.com/redwine_eda/index.html)\n",
    "etc."
   ]
  },
  {
   "cell_type": "markdown",
   "metadata": {},
   "source": [
    "# Data Preparation\n",
    "### 1) Data Exploration"
   ]
  },
  {
   "cell_type": "code",
   "execution_count": 1,
   "metadata": {},
   "outputs": [],
   "source": [
    "import numpy as np\n",
    "import matplotlib.pyplot as plt\n",
    "import os\n",
    "import pandas as pd\n",
    "import seaborn as sns\n"
   ]
  },
  {
   "cell_type": "code",
   "execution_count": 3,
   "metadata": {},
   "outputs": [],
   "source": [
    "#Red wine dataset file name\n",
    "filename = 'winequality-red.csv'\n",
    "#dataset URL \n",
    "url = 'https://archive.ics.uci.edu/ml/machine-learning-databases/wine-quality/winequality-red.csv'\n",
    "\n",
    "#the dataset file residing directory\n",
    "#it is expected to reside in the same directory as this notebook\n",
    "filedir = '.\\\\'\n",
    "file = os.path.join(filedir, filename)\n",
    "\n",
    "columnNames = ['FixedAcidity', 'VolatileAcidity', 'CitricAcid', 'ResidualSugar', 'Chlorides', \n",
    "               'FreeSulfurDioxide', 'TotalSulfurDioxide', 'Density', 'pH', 'Sulphates', \n",
    "               'Alcohol', 'Quality']\n",
    "\n",
    "wdf = pd.read_csv(filename, sep=';', names=columnNames, skiprows=1)\n"
   ]
  },
  {
   "cell_type": "code",
   "execution_count": 6,
   "metadata": {},
   "outputs": [
    {
     "name": "stdout",
     "output_type": "stream",
     "text": [
      "Rows => 1599\n",
      "Columns => 12\n"
     ]
    }
   ],
   "source": [
    "#sanity check by printing the shape and some rows (head and tail)\n",
    "print('Rows => {}\\nColumns => {}'.format(wdf.shape[0], wdf.shape[1]))"
   ]
  },
  {
   "cell_type": "code",
   "execution_count": 7,
   "metadata": {},
   "outputs": [
    {
     "data": {
      "text/html": [
       "<div>\n",
       "<style scoped>\n",
       "    .dataframe tbody tr th:only-of-type {\n",
       "        vertical-align: middle;\n",
       "    }\n",
       "\n",
       "    .dataframe tbody tr th {\n",
       "        vertical-align: top;\n",
       "    }\n",
       "\n",
       "    .dataframe thead th {\n",
       "        text-align: right;\n",
       "    }\n",
       "</style>\n",
       "<table border=\"1\" class=\"dataframe\">\n",
       "  <thead>\n",
       "    <tr style=\"text-align: right;\">\n",
       "      <th></th>\n",
       "      <th>FixedAcidity</th>\n",
       "      <th>VolatileAcidity</th>\n",
       "      <th>CitricAcid</th>\n",
       "      <th>ResidualSugar</th>\n",
       "      <th>Chlorides</th>\n",
       "      <th>FreeSulfurDioxide</th>\n",
       "      <th>TotalSulfurDioxide</th>\n",
       "      <th>Density</th>\n",
       "      <th>pH</th>\n",
       "      <th>Sulphates</th>\n",
       "      <th>Alcohol</th>\n",
       "      <th>Quality</th>\n",
       "    </tr>\n",
       "  </thead>\n",
       "  <tbody>\n",
       "    <tr>\n",
       "      <td>0</td>\n",
       "      <td>7.4</td>\n",
       "      <td>0.70</td>\n",
       "      <td>0.00</td>\n",
       "      <td>1.9</td>\n",
       "      <td>0.076</td>\n",
       "      <td>11.0</td>\n",
       "      <td>34.0</td>\n",
       "      <td>0.9978</td>\n",
       "      <td>3.51</td>\n",
       "      <td>0.56</td>\n",
       "      <td>9.4</td>\n",
       "      <td>5</td>\n",
       "    </tr>\n",
       "    <tr>\n",
       "      <td>1</td>\n",
       "      <td>7.8</td>\n",
       "      <td>0.88</td>\n",
       "      <td>0.00</td>\n",
       "      <td>2.6</td>\n",
       "      <td>0.098</td>\n",
       "      <td>25.0</td>\n",
       "      <td>67.0</td>\n",
       "      <td>0.9968</td>\n",
       "      <td>3.20</td>\n",
       "      <td>0.68</td>\n",
       "      <td>9.8</td>\n",
       "      <td>5</td>\n",
       "    </tr>\n",
       "    <tr>\n",
       "      <td>2</td>\n",
       "      <td>7.8</td>\n",
       "      <td>0.76</td>\n",
       "      <td>0.04</td>\n",
       "      <td>2.3</td>\n",
       "      <td>0.092</td>\n",
       "      <td>15.0</td>\n",
       "      <td>54.0</td>\n",
       "      <td>0.9970</td>\n",
       "      <td>3.26</td>\n",
       "      <td>0.65</td>\n",
       "      <td>9.8</td>\n",
       "      <td>5</td>\n",
       "    </tr>\n",
       "    <tr>\n",
       "      <td>3</td>\n",
       "      <td>11.2</td>\n",
       "      <td>0.28</td>\n",
       "      <td>0.56</td>\n",
       "      <td>1.9</td>\n",
       "      <td>0.075</td>\n",
       "      <td>17.0</td>\n",
       "      <td>60.0</td>\n",
       "      <td>0.9980</td>\n",
       "      <td>3.16</td>\n",
       "      <td>0.58</td>\n",
       "      <td>9.8</td>\n",
       "      <td>6</td>\n",
       "    </tr>\n",
       "    <tr>\n",
       "      <td>4</td>\n",
       "      <td>7.4</td>\n",
       "      <td>0.70</td>\n",
       "      <td>0.00</td>\n",
       "      <td>1.9</td>\n",
       "      <td>0.076</td>\n",
       "      <td>11.0</td>\n",
       "      <td>34.0</td>\n",
       "      <td>0.9978</td>\n",
       "      <td>3.51</td>\n",
       "      <td>0.56</td>\n",
       "      <td>9.4</td>\n",
       "      <td>5</td>\n",
       "    </tr>\n",
       "  </tbody>\n",
       "</table>\n",
       "</div>"
      ],
      "text/plain": [
       "   FixedAcidity  VolatileAcidity  CitricAcid  ResidualSugar  Chlorides  \\\n",
       "0           7.4             0.70        0.00            1.9      0.076   \n",
       "1           7.8             0.88        0.00            2.6      0.098   \n",
       "2           7.8             0.76        0.04            2.3      0.092   \n",
       "3          11.2             0.28        0.56            1.9      0.075   \n",
       "4           7.4             0.70        0.00            1.9      0.076   \n",
       "\n",
       "   FreeSulfurDioxide  TotalSulfurDioxide  Density    pH  Sulphates  Alcohol  \\\n",
       "0               11.0                34.0   0.9978  3.51       0.56      9.4   \n",
       "1               25.0                67.0   0.9968  3.20       0.68      9.8   \n",
       "2               15.0                54.0   0.9970  3.26       0.65      9.8   \n",
       "3               17.0                60.0   0.9980  3.16       0.58      9.8   \n",
       "4               11.0                34.0   0.9978  3.51       0.56      9.4   \n",
       "\n",
       "   Quality  \n",
       "0        5  \n",
       "1        5  \n",
       "2        5  \n",
       "3        6  \n",
       "4        5  "
      ]
     },
     "execution_count": 7,
     "metadata": {},
     "output_type": "execute_result"
    },
    {
     "data": {
      "text/html": [
       "<div>\n",
       "<style scoped>\n",
       "    .dataframe tbody tr th:only-of-type {\n",
       "        vertical-align: middle;\n",
       "    }\n",
       "\n",
       "    .dataframe tbody tr th {\n",
       "        vertical-align: top;\n",
       "    }\n",
       "\n",
       "    .dataframe thead th {\n",
       "        text-align: right;\n",
       "    }\n",
       "</style>\n",
       "<table border=\"1\" class=\"dataframe\">\n",
       "  <thead>\n",
       "    <tr style=\"text-align: right;\">\n",
       "      <th></th>\n",
       "      <th>FixedAcidity</th>\n",
       "      <th>VolatileAcidity</th>\n",
       "      <th>CitricAcid</th>\n",
       "      <th>ResidualSugar</th>\n",
       "      <th>Chlorides</th>\n",
       "      <th>FreeSulfurDioxide</th>\n",
       "      <th>TotalSulfurDioxide</th>\n",
       "      <th>Density</th>\n",
       "      <th>pH</th>\n",
       "      <th>Sulphates</th>\n",
       "      <th>Alcohol</th>\n",
       "      <th>Quality</th>\n",
       "    </tr>\n",
       "  </thead>\n",
       "  <tbody>\n",
       "    <tr>\n",
       "      <td>1594</td>\n",
       "      <td>6.2</td>\n",
       "      <td>0.600</td>\n",
       "      <td>0.08</td>\n",
       "      <td>2.0</td>\n",
       "      <td>0.090</td>\n",
       "      <td>32.0</td>\n",
       "      <td>44.0</td>\n",
       "      <td>0.99490</td>\n",
       "      <td>3.45</td>\n",
       "      <td>0.58</td>\n",
       "      <td>10.5</td>\n",
       "      <td>5</td>\n",
       "    </tr>\n",
       "    <tr>\n",
       "      <td>1595</td>\n",
       "      <td>5.9</td>\n",
       "      <td>0.550</td>\n",
       "      <td>0.10</td>\n",
       "      <td>2.2</td>\n",
       "      <td>0.062</td>\n",
       "      <td>39.0</td>\n",
       "      <td>51.0</td>\n",
       "      <td>0.99512</td>\n",
       "      <td>3.52</td>\n",
       "      <td>0.76</td>\n",
       "      <td>11.2</td>\n",
       "      <td>6</td>\n",
       "    </tr>\n",
       "    <tr>\n",
       "      <td>1596</td>\n",
       "      <td>6.3</td>\n",
       "      <td>0.510</td>\n",
       "      <td>0.13</td>\n",
       "      <td>2.3</td>\n",
       "      <td>0.076</td>\n",
       "      <td>29.0</td>\n",
       "      <td>40.0</td>\n",
       "      <td>0.99574</td>\n",
       "      <td>3.42</td>\n",
       "      <td>0.75</td>\n",
       "      <td>11.0</td>\n",
       "      <td>6</td>\n",
       "    </tr>\n",
       "    <tr>\n",
       "      <td>1597</td>\n",
       "      <td>5.9</td>\n",
       "      <td>0.645</td>\n",
       "      <td>0.12</td>\n",
       "      <td>2.0</td>\n",
       "      <td>0.075</td>\n",
       "      <td>32.0</td>\n",
       "      <td>44.0</td>\n",
       "      <td>0.99547</td>\n",
       "      <td>3.57</td>\n",
       "      <td>0.71</td>\n",
       "      <td>10.2</td>\n",
       "      <td>5</td>\n",
       "    </tr>\n",
       "    <tr>\n",
       "      <td>1598</td>\n",
       "      <td>6.0</td>\n",
       "      <td>0.310</td>\n",
       "      <td>0.47</td>\n",
       "      <td>3.6</td>\n",
       "      <td>0.067</td>\n",
       "      <td>18.0</td>\n",
       "      <td>42.0</td>\n",
       "      <td>0.99549</td>\n",
       "      <td>3.39</td>\n",
       "      <td>0.66</td>\n",
       "      <td>11.0</td>\n",
       "      <td>6</td>\n",
       "    </tr>\n",
       "  </tbody>\n",
       "</table>\n",
       "</div>"
      ],
      "text/plain": [
       "      FixedAcidity  VolatileAcidity  CitricAcid  ResidualSugar  Chlorides  \\\n",
       "1594           6.2            0.600        0.08            2.0      0.090   \n",
       "1595           5.9            0.550        0.10            2.2      0.062   \n",
       "1596           6.3            0.510        0.13            2.3      0.076   \n",
       "1597           5.9            0.645        0.12            2.0      0.075   \n",
       "1598           6.0            0.310        0.47            3.6      0.067   \n",
       "\n",
       "      FreeSulfurDioxide  TotalSulfurDioxide  Density    pH  Sulphates  \\\n",
       "1594               32.0                44.0  0.99490  3.45       0.58   \n",
       "1595               39.0                51.0  0.99512  3.52       0.76   \n",
       "1596               29.0                40.0  0.99574  3.42       0.75   \n",
       "1597               32.0                44.0  0.99547  3.57       0.71   \n",
       "1598               18.0                42.0  0.99549  3.39       0.66   \n",
       "\n",
       "      Alcohol  Quality  \n",
       "1594     10.5        5  \n",
       "1595     11.2        6  \n",
       "1596     11.0        6  \n",
       "1597     10.2        5  \n",
       "1598     11.0        6  "
      ]
     },
     "execution_count": 7,
     "metadata": {},
     "output_type": "execute_result"
    }
   ],
   "source": [
    "#print first few rows of table\n",
    "wdf.head()\n",
    "\n",
    "#print the last few rows of table\n",
    "wdf.tail()\n"
   ]
  },
  {
   "cell_type": "code",
   "execution_count": 8,
   "metadata": {},
   "outputs": [
    {
     "name": "stdout",
     "output_type": "stream",
     "text": [
      "<class 'pandas.core.frame.DataFrame'>\n",
      "RangeIndex: 1599 entries, 0 to 1598\n",
      "Data columns (total 12 columns):\n",
      "FixedAcidity          1599 non-null float64\n",
      "VolatileAcidity       1599 non-null float64\n",
      "CitricAcid            1599 non-null float64\n",
      "ResidualSugar         1599 non-null float64\n",
      "Chlorides             1599 non-null float64\n",
      "FreeSulfurDioxide     1599 non-null float64\n",
      "TotalSulfurDioxide    1599 non-null float64\n",
      "Density               1599 non-null float64\n",
      "pH                    1599 non-null float64\n",
      "Sulphates             1599 non-null float64\n",
      "Alcohol               1599 non-null float64\n",
      "Quality               1599 non-null int64\n",
      "dtypes: float64(11), int64(1)\n",
      "memory usage: 150.0 KB\n"
     ]
    }
   ],
   "source": [
    "wdf.info()\n",
    "\n",
    "#from the info there are 1599 rows => there is no missing row"
   ]
  },
  {
   "cell_type": "markdown",
   "metadata": {},
   "source": [
    "### 2) Anomalies/ Missing Data Identification"
   ]
  },
  {
   "cell_type": "code",
   "execution_count": 9,
   "metadata": {},
   "outputs": [
    {
     "name": "stdout",
     "output_type": "stream",
     "text": [
      "Any NULL value in the dataset (True=Yes there is Null)?\n",
      "False\n",
      "\n",
      "=-=-=-=-=-=-=-=-=-=-=-=-=-=-=-=-=-=-\n",
      "Null values count in each feature:\n",
      "\n",
      "FixedAcidity          0\n",
      "VolatileAcidity       0\n",
      "CitricAcid            0\n",
      "ResidualSugar         0\n",
      "Chlorides             0\n",
      "FreeSulfurDioxide     0\n",
      "TotalSulfurDioxide    0\n",
      "Density               0\n",
      "pH                    0\n",
      "Sulphates             0\n",
      "Alcohol               0\n",
      "Quality               0\n",
      "dtype: int64\n",
      "\n",
      "=-=-=-=-=-=-=-=-=-=-=-=-=-=-=-=-=-=-\n",
      "Any cell is missing in table (True=Yes there is missing cell)?\n",
      "False\n"
     ]
    }
   ],
   "source": [
    "#check for null - looks like there is none\n",
    "print('Any NULL value in the dataset (True=Yes there is Null)?')\n",
    "print(wdf.isnull().values.any())\n",
    "\n",
    "print('\\n=-=-=-=-=-=-=-=-=-=-=-=-=-=-=-=-=-=-')\n",
    "print('Null values count in each feature:\\n')\n",
    "print(wdf.isnull().sum())\n",
    "\n",
    "#check for any cell that is missing in dataframe - look like no missing cell\n",
    "print('\\n=-=-=-=-=-=-=-=-=-=-=-=-=-=-=-=-=-=-')\n",
    "print('Any cell is missing in table (True=Yes there is missing cell)?')\n",
    "print(wdf.isna().any().any())"
   ]
  },
  {
   "cell_type": "code",
   "execution_count": 10,
   "metadata": {},
   "outputs": [
    {
     "data": {
      "text/plain": [
       "<matplotlib.axes._subplots.AxesSubplot at 0x1d1203d5e88>"
      ]
     },
     "execution_count": 10,
     "metadata": {},
     "output_type": "execute_result"
    },
    {
     "data": {
      "text/plain": [
       "Text(0.5,1,'NaN Values Heatmap')"
      ]
     },
     "execution_count": 10,
     "metadata": {},
     "output_type": "execute_result"
    },
    {
     "data": {
      "image/png": "[encoded data removed]",
      "text/plain": [
       "<Figure size 432x288 with 1 Axes>"
      ]
     },
     "metadata": {
      "needs_background": "light"
     },
     "output_type": "display_data"
    }
   ],
   "source": [
    "#looking for NaN values via Seaborn heatmap\n",
    "ax = plt.axes()\n",
    "sns.heatmap(wdf.isnull(), yticklabels=False, cbar=False, cmap='RdBu_r', ax=ax)\n",
    "ax.set_title('NaN Values Heatmap')\n",
    "\n",
    "#there is no NaN values in the dataset "
   ]
  },
  {
   "cell_type": "code",
   "execution_count": 11,
   "metadata": {},
   "outputs": [
    {
     "data": {
      "text/html": [
       "<div>\n",
       "<style scoped>\n",
       "    .dataframe tbody tr th:only-of-type {\n",
       "        vertical-align: middle;\n",
       "    }\n",
       "\n",
       "    .dataframe tbody tr th {\n",
       "        vertical-align: top;\n",
       "    }\n",
       "\n",
       "    .dataframe thead th {\n",
       "        text-align: right;\n",
       "    }\n",
       "</style>\n",
       "<table border=\"1\" class=\"dataframe\">\n",
       "  <thead>\n",
       "    <tr style=\"text-align: right;\">\n",
       "      <th></th>\n",
       "      <th>count</th>\n",
       "      <th>mean</th>\n",
       "      <th>std</th>\n",
       "      <th>min</th>\n",
       "      <th>max</th>\n",
       "      <th>25%</th>\n",
       "      <th>50%</th>\n",
       "      <th>75%</th>\n",
       "    </tr>\n",
       "  </thead>\n",
       "  <tbody>\n",
       "    <tr>\n",
       "      <td>FixedAcidity</td>\n",
       "      <td>1599.0</td>\n",
       "      <td>8.319637</td>\n",
       "      <td>1.741096</td>\n",
       "      <td>4.60000</td>\n",
       "      <td>15.90000</td>\n",
       "      <td>7.1000</td>\n",
       "      <td>7.90000</td>\n",
       "      <td>9.200000</td>\n",
       "    </tr>\n",
       "    <tr>\n",
       "      <td>VolatileAcidity</td>\n",
       "      <td>1599.0</td>\n",
       "      <td>0.527821</td>\n",
       "      <td>0.179060</td>\n",
       "      <td>0.12000</td>\n",
       "      <td>1.58000</td>\n",
       "      <td>0.3900</td>\n",
       "      <td>0.52000</td>\n",
       "      <td>0.640000</td>\n",
       "    </tr>\n",
       "    <tr>\n",
       "      <td>CitricAcid</td>\n",
       "      <td>1599.0</td>\n",
       "      <td>0.270976</td>\n",
       "      <td>0.194801</td>\n",
       "      <td>0.00000</td>\n",
       "      <td>1.00000</td>\n",
       "      <td>0.0900</td>\n",
       "      <td>0.26000</td>\n",
       "      <td>0.420000</td>\n",
       "    </tr>\n",
       "    <tr>\n",
       "      <td>ResidualSugar</td>\n",
       "      <td>1599.0</td>\n",
       "      <td>2.538806</td>\n",
       "      <td>1.409928</td>\n",
       "      <td>0.90000</td>\n",
       "      <td>15.50000</td>\n",
       "      <td>1.9000</td>\n",
       "      <td>2.20000</td>\n",
       "      <td>2.600000</td>\n",
       "    </tr>\n",
       "    <tr>\n",
       "      <td>Chlorides</td>\n",
       "      <td>1599.0</td>\n",
       "      <td>0.087467</td>\n",
       "      <td>0.047065</td>\n",
       "      <td>0.01200</td>\n",
       "      <td>0.61100</td>\n",
       "      <td>0.0700</td>\n",
       "      <td>0.07900</td>\n",
       "      <td>0.090000</td>\n",
       "    </tr>\n",
       "    <tr>\n",
       "      <td>FreeSulfurDioxide</td>\n",
       "      <td>1599.0</td>\n",
       "      <td>15.874922</td>\n",
       "      <td>10.460157</td>\n",
       "      <td>1.00000</td>\n",
       "      <td>72.00000</td>\n",
       "      <td>7.0000</td>\n",
       "      <td>14.00000</td>\n",
       "      <td>21.000000</td>\n",
       "    </tr>\n",
       "    <tr>\n",
       "      <td>TotalSulfurDioxide</td>\n",
       "      <td>1599.0</td>\n",
       "      <td>46.467792</td>\n",
       "      <td>32.895324</td>\n",
       "      <td>6.00000</td>\n",
       "      <td>289.00000</td>\n",
       "      <td>22.0000</td>\n",
       "      <td>38.00000</td>\n",
       "      <td>62.000000</td>\n",
       "    </tr>\n",
       "    <tr>\n",
       "      <td>Density</td>\n",
       "      <td>1599.0</td>\n",
       "      <td>0.996747</td>\n",
       "      <td>0.001887</td>\n",
       "      <td>0.99007</td>\n",
       "      <td>1.00369</td>\n",
       "      <td>0.9956</td>\n",
       "      <td>0.99675</td>\n",
       "      <td>0.997835</td>\n",
       "    </tr>\n",
       "    <tr>\n",
       "      <td>pH</td>\n",
       "      <td>1599.0</td>\n",
       "      <td>3.311113</td>\n",
       "      <td>0.154386</td>\n",
       "      <td>2.74000</td>\n",
       "      <td>4.01000</td>\n",
       "      <td>3.2100</td>\n",
       "      <td>3.31000</td>\n",
       "      <td>3.400000</td>\n",
       "    </tr>\n",
       "    <tr>\n",
       "      <td>Sulphates</td>\n",
       "      <td>1599.0</td>\n",
       "      <td>0.658149</td>\n",
       "      <td>0.169507</td>\n",
       "      <td>0.33000</td>\n",
       "      <td>2.00000</td>\n",
       "      <td>0.5500</td>\n",
       "      <td>0.62000</td>\n",
       "      <td>0.730000</td>\n",
       "    </tr>\n",
       "    <tr>\n",
       "      <td>Alcohol</td>\n",
       "      <td>1599.0</td>\n",
       "      <td>10.422983</td>\n",
       "      <td>1.065668</td>\n",
       "      <td>8.40000</td>\n",
       "      <td>14.90000</td>\n",
       "      <td>9.5000</td>\n",
       "      <td>10.20000</td>\n",
       "      <td>11.100000</td>\n",
       "    </tr>\n",
       "    <tr>\n",
       "      <td>Quality</td>\n",
       "      <td>1599.0</td>\n",
       "      <td>5.636023</td>\n",
       "      <td>0.807569</td>\n",
       "      <td>3.00000</td>\n",
       "      <td>8.00000</td>\n",
       "      <td>5.0000</td>\n",
       "      <td>6.00000</td>\n",
       "      <td>6.000000</td>\n",
       "    </tr>\n",
       "  </tbody>\n",
       "</table>\n",
       "</div>"
      ],
      "text/plain": [
       "                     count       mean        std      min        max      25%  \\\n",
       "FixedAcidity        1599.0   8.319637   1.741096  4.60000   15.90000   7.1000   \n",
       "VolatileAcidity     1599.0   0.527821   0.179060  0.12000    1.58000   0.3900   \n",
       "CitricAcid          1599.0   0.270976   0.194801  0.00000    1.00000   0.0900   \n",
       "ResidualSugar       1599.0   2.538806   1.409928  0.90000   15.50000   1.9000   \n",
       "Chlorides           1599.0   0.087467   0.047065  0.01200    0.61100   0.0700   \n",
       "FreeSulfurDioxide   1599.0  15.874922  10.460157  1.00000   72.00000   7.0000   \n",
       "TotalSulfurDioxide  1599.0  46.467792  32.895324  6.00000  289.00000  22.0000   \n",
       "Density             1599.0   0.996747   0.001887  0.99007    1.00369   0.9956   \n",
       "pH                  1599.0   3.311113   0.154386  2.74000    4.01000   3.2100   \n",
       "Sulphates           1599.0   0.658149   0.169507  0.33000    2.00000   0.5500   \n",
       "Alcohol             1599.0  10.422983   1.065668  8.40000   14.90000   9.5000   \n",
       "Quality             1599.0   5.636023   0.807569  3.00000    8.00000   5.0000   \n",
       "\n",
       "                         50%        75%  \n",
       "FixedAcidity         7.90000   9.200000  \n",
       "VolatileAcidity      0.52000   0.640000  \n",
       "CitricAcid           0.26000   0.420000  \n",
       "ResidualSugar        2.20000   2.600000  \n",
       "Chlorides            0.07900   0.090000  \n",
       "FreeSulfurDioxide   14.00000  21.000000  \n",
       "TotalSulfurDioxide  38.00000  62.000000  \n",
       "Density              0.99675   0.997835  \n",
       "pH                   3.31000   3.400000  \n",
       "Sulphates            0.62000   0.730000  \n",
       "Alcohol             10.20000  11.100000  \n",
       "Quality              6.00000   6.000000  "
      ]
     },
     "execution_count": 11,
     "metadata": {},
     "output_type": "execute_result"
    }
   ],
   "source": [
    "descT = wdf.describe().transpose()\n",
    "cols = list(descT)\n",
    "\n",
    "#move 'max' column next to 'min' column for easier visual comparison\n",
    "cols.insert(cols.index('25%'), cols.pop(cols.index('max')))\n",
    "descT = descT.loc[:, cols]\n",
    "descT"
   ]
  },
  {
   "cell_type": "code",
   "execution_count": 12,
   "metadata": {},
   "outputs": [
    {
     "name": "stdout",
     "output_type": "stream",
     "text": [
      "Wine pH is within range.\n"
     ]
    }
   ],
   "source": [
    "#source: https://winefolly.com/deep-dive/understanding-acidity-in-wine/\n",
    "#Fundamentally speaking, all wines lie on the acidic side of the pH spectrum and \n",
    "#most range from 2.5 to about 4.5 pH (7 is neutral).\n",
    "\n",
    "if wdf.pH.min() >= 2.5 and wdf.pH.max() <= 4.5:\n",
    "    print('Wine pH is within range.')"
   ]
  },
  {
   "cell_type": "code",
   "execution_count": 13,
   "metadata": {
    "scrolled": true
   },
   "outputs": [
    {
     "data": {
      "text/plain": [
       "3     10\n",
       "4     53\n",
       "5    681\n",
       "6    638\n",
       "7    199\n",
       "8     18\n",
       "Name: Quality, dtype: int64"
      ]
     },
     "execution_count": 13,
     "metadata": {},
     "output_type": "execute_result"
    }
   ],
   "source": [
    "#imbalance in Quality class\n",
    "#there are more average wines (681+638) than low (10+53) and high quality wines (199+18)\n",
    "\n",
    "wdf.Quality.value_counts().sort_index()"
   ]
  },
  {
   "cell_type": "code",
   "execution_count": 14,
   "metadata": {},
   "outputs": [
    {
     "data": {
      "text/plain": [
       "(0, 800)"
      ]
     },
     "execution_count": 14,
     "metadata": {},
     "output_type": "execute_result"
    },
    {
     "data": {
      "text/plain": [
       "Text(10,0,'0.6%')"
      ]
     },
     "execution_count": 14,
     "metadata": {},
     "output_type": "execute_result"
    },
    {
     "data": {
      "text/plain": [
       "Text(53,1,'3.3%')"
      ]
     },
     "execution_count": 14,
     "metadata": {},
     "output_type": "execute_result"
    },
    {
     "data": {
      "text/plain": [
       "Text(681,2,'42.6%')"
      ]
     },
     "execution_count": 14,
     "metadata": {},
     "output_type": "execute_result"
    },
    {
     "data": {
      "text/plain": [
       "Text(638,3,'39.9%')"
      ]
     },
     "execution_count": 14,
     "metadata": {},
     "output_type": "execute_result"
    },
    {
     "data": {
      "text/plain": [
       "Text(199,4,'12.4%')"
      ]
     },
     "execution_count": 14,
     "metadata": {},
     "output_type": "execute_result"
    },
    {
     "data": {
      "text/plain": [
       "Text(18,5,'1.1%')"
      ]
     },
     "execution_count": 14,
     "metadata": {},
     "output_type": "execute_result"
    },
    {
     "data": {
      "image/png": "[encoded data removed]",
      "text/plain": [
       "<Figure size 432x288 with 1 Axes>"
      ]
     },
     "metadata": {},
     "output_type": "display_data"
    }
   ],
   "source": [
    "#now show it as a horizontal bar chart using percentage\n",
    "sns.set(style=\"whitegrid\")\n",
    "\n",
    "ax = sns.countplot(y=\"Quality\", data=wdf)\n",
    "ax.set_xlim(0, 800)\n",
    "\n",
    "total = len(wdf['Quality'])\n",
    "\n",
    "for p in ax.patches:\n",
    "    percentage = '{:.1f}%'.format(100 * p.get_width()/total)\n",
    "    x = p.get_x() + p.get_width()\n",
    "    y = p.get_y() + p.get_height()/2\n",
    "    ax.annotate(percentage, (x, y))\n",
    "    \n",
    "plt.show()"
   ]
  },
  {
   "cell_type": "code",
   "execution_count": 16,
   "metadata": {
    "scrolled": false
   },
   "outputs": [],
   "source": [
    "def wineBoxPlot(df, cols, colx = 'Quality'):\n",
    "    for col in cols:\n",
    "        sns.set_style('whitegrid')\n",
    "        sns.boxplot(colx, col, data=df)\n",
    "        plt.xlabel(colx)\n",
    "        plt.ylabel(col)\n",
    "        plt.show()\n",
    "    "
   ]
  },
  {
   "cell_type": "code",
   "execution_count": 17,
   "metadata": {},
   "outputs": [
    {
     "data": {
      "image/png": "[encoded data removed]",
      "text/plain": [
       "<Figure size 432x288 with 1 Axes>"
      ]
     },
     "metadata": {},
     "output_type": "display_data"
    }
   ],
   "source": [
    "#many outliers for wine qualities 5 & 6\n",
    "\n",
    "wineBoxPlot (wdf, columnNames[:1])"
   ]
  },
  {
   "cell_type": "code",
   "execution_count": 18,
   "metadata": {},
   "outputs": [
    {
     "data": {
      "image/png": "[encoded data removed]",
      "text/plain": [
       "<Figure size 432x288 with 1 Axes>"
      ]
     },
     "metadata": {},
     "output_type": "display_data"
    },
    {
     "data": {
      "image/png": "[encoded data removed]",
      "text/plain": [
       "<Figure size 432x288 with 1 Axes>"
      ]
     },
     "metadata": {},
     "output_type": "display_data"
    }
   ],
   "source": [
    "#good wine has lower Volatile Acidity\n",
    "#good wine has higher Citric Acid\n",
    "#many outliers for wine qualities 5 & 6\n",
    "\n",
    "wineBoxPlot (wdf, columnNames[1:3])"
   ]
  },
  {
   "cell_type": "code",
   "execution_count": 19,
   "metadata": {},
   "outputs": [
    {
     "data": {
      "image/png": "[encoded data removed]",
      "text/plain": [
       "<Figure size 432x288 with 1 Axes>"
      ]
     },
     "metadata": {},
     "output_type": "display_data"
    },
    {
     "data": {
      "image/png": "[encoded data removed]",
      "text/plain": [
       "<Figure size 432x288 with 1 Axes>"
      ]
     },
     "metadata": {},
     "output_type": "display_data"
    },
    {
     "data": {
      "image/png": "[encoded data removed]",
      "text/plain": [
       "<Figure size 432x288 with 1 Axes>"
      ]
     },
     "metadata": {},
     "output_type": "display_data"
    }
   ],
   "source": [
    "#many outliers for wine qualities 5 & 6\n",
    "wineBoxPlot (wdf, columnNames[3:6])\n"
   ]
  },
  {
   "cell_type": "code",
   "execution_count": 20,
   "metadata": {},
   "outputs": [
    {
     "data": {
      "image/png": "[encoded data removed]",
      "text/plain": [
       "<Figure size 432x288 with 1 Axes>"
      ]
     },
     "metadata": {},
     "output_type": "display_data"
    },
    {
     "data": {
      "image/png": "[encoded data removed]",
      "text/plain": [
       "<Figure size 432x288 with 1 Axes>"
      ]
     },
     "metadata": {},
     "output_type": "display_data"
    }
   ],
   "source": [
    "#good wine has lower Density\n",
    "#many outliers for wine quality 5 & 6\n",
    "\n",
    "wineBoxPlot (wdf, columnNames[6:8])"
   ]
  },
  {
   "cell_type": "code",
   "execution_count": 21,
   "metadata": {},
   "outputs": [
    {
     "data": {
      "image/png": "[encoded data removed]",
      "text/plain": [
       "<Figure size 432x288 with 1 Axes>"
      ]
     },
     "metadata": {},
     "output_type": "display_data"
    },
    {
     "data": {
      "image/png": "[encoded data removed]",
      "text/plain": [
       "<Figure size 432x288 with 1 Axes>"
      ]
     },
     "metadata": {},
     "output_type": "display_data"
    },
    {
     "data": {
      "image/png": "[encoded data removed]",
      "text/plain": [
       "<Figure size 432x288 with 1 Axes>"
      ]
     },
     "metadata": {},
     "output_type": "display_data"
    }
   ],
   "source": [
    "#good wine has lower pH\n",
    "#good wine has higher Sulphates and Alcohol\n",
    "#many outliers for wine qualities 5 & 6\n",
    "\n",
    "wineBoxPlot (wdf, columnNames[8:11])"
   ]
  },
  {
   "cell_type": "code",
   "execution_count": 22,
   "metadata": {},
   "outputs": [
    {
     "data": {
      "text/plain": [
       "<matplotlib.axes._subplots.AxesSubplot at 0x1d12143af48>"
      ]
     },
     "execution_count": 22,
     "metadata": {},
     "output_type": "execute_result"
    },
    {
     "data": {
      "text/plain": [
       "Text(0.5,1,'Red Wine - Quality vs Features Correlation')"
      ]
     },
     "execution_count": 22,
     "metadata": {},
     "output_type": "execute_result"
    },
    {
     "data": {
      "image/png": "[encoded data removed]",
      "text/plain": [
       "<Figure size 720x576 with 2 Axes>"
      ]
     },
     "metadata": {},
     "output_type": "display_data"
    }
   ],
   "source": [
    "#plot the correlation as heatmap\n",
    "corr = wdf.corr(method='pearson')\n",
    "\n",
    "_, ax = plt.subplots(figsize=(10, 8))\n",
    "\n",
    "mask = np.triu(corr, k=1)\n",
    "sns.heatmap(corr, fmt=\".2f\", annot=True, vmin=-1, vmax=1, center= 0, \n",
    "            cmap='RdBu_r', mask=mask, ax=ax)\n",
    "ax.set_title('Red Wine - Quality vs Features Correlation')\n"
   ]
  },
  {
   "cell_type": "markdown",
   "metadata": {},
   "source": [
    "### 3) Correlation Observations\n",
    "#### a) Relatively Highly Correlated Feature Pairs\n",
    "- Citric Acid and Fixed Acidity (0.67)\n",
    "- Density and Fixed Acidity (0.67)\n",
    "- Free Sulfur Dioxide and Total ulfur Dioxide (0.67)\n",
    "\n",
    "#### b) Relatively Correlated Feature Pair\n",
    "- Alcohol and Quality (0.48)\n",
    "\n",
    "#### c) Relatively Highly Inverse Correlated Feature Pairs\n",
    "- Fixed Acidity and pH (-0.68)\n",
    "- Citric Acid and Volatile Acidity (-0.55)\n",
    "- Citric Acid and pH (-0.54)\n",
    "- Alcohol and Density (-0.5)"
   ]
  },
  {
   "cell_type": "code",
   "execution_count": 24,
   "metadata": {},
   "outputs": [
    {
     "data": {
      "text/plain": [
       "<Figure size 1440x1584 with 0 Axes>"
      ]
     },
     "execution_count": 24,
     "metadata": {},
     "output_type": "execute_result"
    },
    {
     "data": {
      "text/plain": [
       "<matplotlib.axes._subplots.AxesSubplot at 0x1d121961248>"
      ]
     },
     "execution_count": 24,
     "metadata": {},
     "output_type": "execute_result"
    },
    {
     "data": {
      "text/plain": [
       "<matplotlib.axes._subplots.AxesSubplot at 0x1d121961248>"
      ]
     },
     "execution_count": 24,
     "metadata": {},
     "output_type": "execute_result"
    },
    {
     "data": {
      "text/plain": [
       "<matplotlib.axes._subplots.AxesSubplot at 0x1d12232ed88>"
      ]
     },
     "execution_count": 24,
     "metadata": {},
     "output_type": "execute_result"
    },
    {
     "data": {
      "text/plain": [
       "<matplotlib.axes._subplots.AxesSubplot at 0x1d12232ed88>"
      ]
     },
     "execution_count": 24,
     "metadata": {},
     "output_type": "execute_result"
    },
    {
     "data": {
      "text/plain": [
       "<matplotlib.axes._subplots.AxesSubplot at 0x1d1222f2e48>"
      ]
     },
     "execution_count": 24,
     "metadata": {},
     "output_type": "execute_result"
    },
    {
     "data": {
      "text/plain": [
       "<matplotlib.axes._subplots.AxesSubplot at 0x1d1222f2e48>"
      ]
     },
     "execution_count": 24,
     "metadata": {},
     "output_type": "execute_result"
    },
    {
     "data": {
      "text/plain": [
       "<matplotlib.axes._subplots.AxesSubplot at 0x1d121a5b4c8>"
      ]
     },
     "execution_count": 24,
     "metadata": {},
     "output_type": "execute_result"
    },
    {
     "data": {
      "text/plain": [
       "<matplotlib.axes._subplots.AxesSubplot at 0x1d121a5b4c8>"
      ]
     },
     "execution_count": 24,
     "metadata": {},
     "output_type": "execute_result"
    },
    {
     "data": {
      "text/plain": [
       "<matplotlib.axes._subplots.AxesSubplot at 0x1d1219d4488>"
      ]
     },
     "execution_count": 24,
     "metadata": {},
     "output_type": "execute_result"
    },
    {
     "data": {
      "text/plain": [
       "<matplotlib.axes._subplots.AxesSubplot at 0x1d1219d4488>"
      ]
     },
     "execution_count": 24,
     "metadata": {},
     "output_type": "execute_result"
    },
    {
     "data": {
      "text/plain": [
       "<matplotlib.axes._subplots.AxesSubplot at 0x1d121b388c8>"
      ]
     },
     "execution_count": 24,
     "metadata": {},
     "output_type": "execute_result"
    },
    {
     "data": {
      "text/plain": [
       "<matplotlib.axes._subplots.AxesSubplot at 0x1d121b388c8>"
      ]
     },
     "execution_count": 24,
     "metadata": {},
     "output_type": "execute_result"
    },
    {
     "data": {
      "text/plain": [
       "<matplotlib.axes._subplots.AxesSubplot at 0x1d121be5188>"
      ]
     },
     "execution_count": 24,
     "metadata": {},
     "output_type": "execute_result"
    },
    {
     "data": {
      "text/plain": [
       "<matplotlib.axes._subplots.AxesSubplot at 0x1d121be5188>"
      ]
     },
     "execution_count": 24,
     "metadata": {},
     "output_type": "execute_result"
    },
    {
     "data": {
      "text/plain": [
       "<matplotlib.axes._subplots.AxesSubplot at 0x1d121c84bc8>"
      ]
     },
     "execution_count": 24,
     "metadata": {},
     "output_type": "execute_result"
    },
    {
     "data": {
      "text/plain": [
       "<matplotlib.axes._subplots.AxesSubplot at 0x1d121c84bc8>"
      ]
     },
     "execution_count": 24,
     "metadata": {},
     "output_type": "execute_result"
    },
    {
     "data": {
      "text/plain": [
       "<matplotlib.axes._subplots.AxesSubplot at 0x1d121cf7448>"
      ]
     },
     "execution_count": 24,
     "metadata": {},
     "output_type": "execute_result"
    },
    {
     "data": {
      "text/plain": [
       "<matplotlib.axes._subplots.AxesSubplot at 0x1d121cf7448>"
      ]
     },
     "execution_count": 24,
     "metadata": {},
     "output_type": "execute_result"
    },
    {
     "data": {
      "text/plain": [
       "<matplotlib.axes._subplots.AxesSubplot at 0x1d121c8bdc8>"
      ]
     },
     "execution_count": 24,
     "metadata": {},
     "output_type": "execute_result"
    },
    {
     "data": {
      "text/plain": [
       "<matplotlib.axes._subplots.AxesSubplot at 0x1d121c8bdc8>"
      ]
     },
     "execution_count": 24,
     "metadata": {},
     "output_type": "execute_result"
    },
    {
     "data": {
      "text/plain": [
       "<matplotlib.axes._subplots.AxesSubplot at 0x1d121e31a88>"
      ]
     },
     "execution_count": 24,
     "metadata": {},
     "output_type": "execute_result"
    },
    {
     "data": {
      "text/plain": [
       "<matplotlib.axes._subplots.AxesSubplot at 0x1d121e31a88>"
      ]
     },
     "execution_count": 24,
     "metadata": {},
     "output_type": "execute_result"
    },
    {
     "data": {
      "text/plain": [
       "<matplotlib.axes._subplots.AxesSubplot at 0x1d121ee3708>"
      ]
     },
     "execution_count": 24,
     "metadata": {},
     "output_type": "execute_result"
    },
    {
     "data": {
      "text/plain": [
       "<matplotlib.axes._subplots.AxesSubplot at 0x1d121ee3708>"
      ]
     },
     "execution_count": 24,
     "metadata": {},
     "output_type": "execute_result"
    },
    {
     "data": {
      "image/png": "[encoded data removed]",
      "text/plain": [
       "<Figure size 1440x1584 with 12 Axes>"
      ]
     },
     "metadata": {},
     "output_type": "display_data"
    }
   ],
   "source": [
    "plt.figure(figsize = (20,22))\n",
    "\n",
    "for i in range(1, len(wdf.columns)+1):\n",
    "    plt.subplot(5,4,i)\n",
    "    sns.distplot(wdf[wdf.columns[i-1]])\n",
    "    \n",
    "plt.show()"
   ]
  },
  {
   "cell_type": "code",
   "execution_count": 25,
   "metadata": {},
   "outputs": [
    {
     "data": {
      "text/plain": [
       "0            Good\n",
       "1            Good\n",
       "2            Good\n",
       "3       Excellent\n",
       "4            Good\n",
       "          ...    \n",
       "1594         Good\n",
       "1595    Excellent\n",
       "1596    Excellent\n",
       "1597         Good\n",
       "1598    Excellent\n",
       "Name: Target, Length: 1599, dtype: category\n",
       "Categories (2, object): [Good < Excellent]"
      ]
     },
     "execution_count": 25,
     "metadata": {},
     "output_type": "execute_result"
    }
   ],
   "source": [
    "#classify the wines into Good and Excellent qualities\n",
    "#bad, quality < \n",
    "\n",
    "bins = [0, 5, 10]\n",
    "labels = ['Good', 'Excellent']\n",
    "wdf['Target'] = pd.cut(x=wdf['Quality'], bins=bins, labels=labels)\n",
    "\n",
    "wdf['Target'].astype('category')"
   ]
  },
  {
   "cell_type": "code",
   "execution_count": 26,
   "metadata": {},
   "outputs": [
    {
     "data": {
      "text/plain": [
       "(0, 1000)"
      ]
     },
     "execution_count": 26,
     "metadata": {},
     "output_type": "execute_result"
    },
    {
     "data": {
      "text/plain": [
       "Text(744,0,'46.5%')"
      ]
     },
     "execution_count": 26,
     "metadata": {},
     "output_type": "execute_result"
    },
    {
     "data": {
      "text/plain": [
       "Text(855,1,'53.5%')"
      ]
     },
     "execution_count": 26,
     "metadata": {},
     "output_type": "execute_result"
    },
    {
     "data": {
      "image/png": "[encoded data removed]",
      "text/plain": [
       "<Figure size 432x288 with 1 Axes>"
      ]
     },
     "metadata": {},
     "output_type": "display_data"
    }
   ],
   "source": [
    "sns.set(style=\"whitegrid\")\n",
    "\n",
    "ax = sns.countplot(y=\"Target\", data=wdf)\n",
    "ax.set_xlim(0, 1000)\n",
    "\n",
    "total = len(wdf['Target'])\n",
    "\n",
    "for p in ax.patches:\n",
    "    percentage = '{:.1f}%'.format(100 * p.get_width()/total)\n",
    "    x = p.get_x() + p.get_width()\n",
    "    y = p.get_y() + p.get_height()/2\n",
    "    ax.annotate(percentage, (x, y))\n",
    "    \n",
    "plt.show()"
   ]
  },
  {
   "cell_type": "markdown",
   "metadata": {},
   "source": [
    "# Data Standardisation"
   ]
  },
  {
   "cell_type": "code",
   "execution_count": 27,
   "metadata": {},
   "outputs": [
    {
     "data": {
      "text/html": [
       "<div>\n",
       "<style scoped>\n",
       "    .dataframe tbody tr th:only-of-type {\n",
       "        vertical-align: middle;\n",
       "    }\n",
       "\n",
       "    .dataframe tbody tr th {\n",
       "        vertical-align: top;\n",
       "    }\n",
       "\n",
       "    .dataframe thead th {\n",
       "        text-align: right;\n",
       "    }\n",
       "</style>\n",
       "<table border=\"1\" class=\"dataframe\">\n",
       "  <thead>\n",
       "    <tr style=\"text-align: right;\">\n",
       "      <th></th>\n",
       "      <th>FixedAcidity</th>\n",
       "      <th>VolatileAcidity</th>\n",
       "      <th>CitricAcid</th>\n",
       "      <th>ResidualSugar</th>\n",
       "      <th>Chlorides</th>\n",
       "      <th>FreeSulfurDioxide</th>\n",
       "      <th>TotalSulfurDioxide</th>\n",
       "      <th>Density</th>\n",
       "      <th>pH</th>\n",
       "      <th>Sulphates</th>\n",
       "      <th>Alcohol</th>\n",
       "    </tr>\n",
       "  </thead>\n",
       "  <tbody>\n",
       "    <tr>\n",
       "      <td>0</td>\n",
       "      <td>7.4</td>\n",
       "      <td>0.70</td>\n",
       "      <td>0.00</td>\n",
       "      <td>1.9</td>\n",
       "      <td>0.076</td>\n",
       "      <td>11.0</td>\n",
       "      <td>34.0</td>\n",
       "      <td>0.9978</td>\n",
       "      <td>3.51</td>\n",
       "      <td>0.56</td>\n",
       "      <td>9.4</td>\n",
       "    </tr>\n",
       "    <tr>\n",
       "      <td>1</td>\n",
       "      <td>7.8</td>\n",
       "      <td>0.88</td>\n",
       "      <td>0.00</td>\n",
       "      <td>2.6</td>\n",
       "      <td>0.098</td>\n",
       "      <td>25.0</td>\n",
       "      <td>67.0</td>\n",
       "      <td>0.9968</td>\n",
       "      <td>3.20</td>\n",
       "      <td>0.68</td>\n",
       "      <td>9.8</td>\n",
       "    </tr>\n",
       "    <tr>\n",
       "      <td>2</td>\n",
       "      <td>7.8</td>\n",
       "      <td>0.76</td>\n",
       "      <td>0.04</td>\n",
       "      <td>2.3</td>\n",
       "      <td>0.092</td>\n",
       "      <td>15.0</td>\n",
       "      <td>54.0</td>\n",
       "      <td>0.9970</td>\n",
       "      <td>3.26</td>\n",
       "      <td>0.65</td>\n",
       "      <td>9.8</td>\n",
       "    </tr>\n",
       "    <tr>\n",
       "      <td>3</td>\n",
       "      <td>11.2</td>\n",
       "      <td>0.28</td>\n",
       "      <td>0.56</td>\n",
       "      <td>1.9</td>\n",
       "      <td>0.075</td>\n",
       "      <td>17.0</td>\n",
       "      <td>60.0</td>\n",
       "      <td>0.9980</td>\n",
       "      <td>3.16</td>\n",
       "      <td>0.58</td>\n",
       "      <td>9.8</td>\n",
       "    </tr>\n",
       "    <tr>\n",
       "      <td>4</td>\n",
       "      <td>7.4</td>\n",
       "      <td>0.70</td>\n",
       "      <td>0.00</td>\n",
       "      <td>1.9</td>\n",
       "      <td>0.076</td>\n",
       "      <td>11.0</td>\n",
       "      <td>34.0</td>\n",
       "      <td>0.9978</td>\n",
       "      <td>3.51</td>\n",
       "      <td>0.56</td>\n",
       "      <td>9.4</td>\n",
       "    </tr>\n",
       "  </tbody>\n",
       "</table>\n",
       "</div>"
      ],
      "text/plain": [
       "   FixedAcidity  VolatileAcidity  CitricAcid  ResidualSugar  Chlorides  \\\n",
       "0           7.4             0.70        0.00            1.9      0.076   \n",
       "1           7.8             0.88        0.00            2.6      0.098   \n",
       "2           7.8             0.76        0.04            2.3      0.092   \n",
       "3          11.2             0.28        0.56            1.9      0.075   \n",
       "4           7.4             0.70        0.00            1.9      0.076   \n",
       "\n",
       "   FreeSulfurDioxide  TotalSulfurDioxide  Density    pH  Sulphates  Alcohol  \n",
       "0               11.0                34.0   0.9978  3.51       0.56      9.4  \n",
       "1               25.0                67.0   0.9968  3.20       0.68      9.8  \n",
       "2               15.0                54.0   0.9970  3.26       0.65      9.8  \n",
       "3               17.0                60.0   0.9980  3.16       0.58      9.8  \n",
       "4               11.0                34.0   0.9978  3.51       0.56      9.4  "
      ]
     },
     "execution_count": 27,
     "metadata": {},
     "output_type": "execute_result"
    },
    {
     "data": {
      "text/plain": [
       "0         Good\n",
       "1         Good\n",
       "2         Good\n",
       "3    Excellent\n",
       "4         Good\n",
       "Name: Target, dtype: category\n",
       "Categories (2, object): [Good < Excellent]"
      ]
     },
     "execution_count": 27,
     "metadata": {},
     "output_type": "execute_result"
    },
    {
     "data": {
      "text/plain": [
       "1594         Good\n",
       "1595    Excellent\n",
       "1596    Excellent\n",
       "1597         Good\n",
       "1598    Excellent\n",
       "Name: Target, dtype: category\n",
       "Categories (2, object): [Good < Excellent]"
      ]
     },
     "execution_count": 27,
     "metadata": {},
     "output_type": "execute_result"
    }
   ],
   "source": [
    "X = wdf.iloc[:, :11]\n",
    "y = wdf['Target']\n",
    "\n",
    "X.head()\n",
    "y.head()\n",
    "y.tail()"
   ]
  },
  {
   "cell_type": "code",
   "execution_count": 28,
   "metadata": {},
   "outputs": [
    {
     "name": "stdout",
     "output_type": "stream",
     "text": [
      "[[0.24778761 0.39726027 0.         ... 0.60629921 0.13772455 0.15384615]\n",
      " [0.28318584 0.52054795 0.         ... 0.36220472 0.20958084 0.21538462]\n",
      " [0.28318584 0.43835616 0.04       ... 0.40944882 0.19161677 0.21538462]\n",
      " ...\n",
      " [0.15044248 0.26712329 0.13       ... 0.53543307 0.25149701 0.4       ]\n",
      " [0.11504425 0.35958904 0.12       ... 0.65354331 0.22754491 0.27692308]\n",
      " [0.12389381 0.13013699 0.47       ... 0.51181102 0.19760479 0.4       ]]\n"
     ]
    }
   ],
   "source": [
    "from sklearn.preprocessing import StandardScaler\n",
    "from sklearn.preprocessing import MinMaxScaler\n",
    "\n",
    "# stdScaler = StandardScaler()\n",
    "# X = stdScaler.fit_transform(X)\n",
    "\n",
    "#use MinMaxScaler - product slightly better accuracy than StandardScaler\n",
    "minmaxScaler = MinMaxScaler()\n",
    "X = minmaxScaler.fit_transform(X)\n",
    "\n",
    "print(X)"
   ]
  },
  {
   "cell_type": "code",
   "execution_count": 29,
   "metadata": {},
   "outputs": [
    {
     "data": {
      "text/plain": [
       "<Figure size 360x360 with 0 Axes>"
      ]
     },
     "execution_count": 29,
     "metadata": {},
     "output_type": "execute_result"
    },
    {
     "data": {
      "text/plain": [
       "[<matplotlib.lines.Line2D at 0x1d122e54288>]"
      ]
     },
     "execution_count": 29,
     "metadata": {},
     "output_type": "execute_result"
    },
    {
     "data": {
      "text/plain": [
       "<matplotlib.collections.LineCollection at 0x1d122111608>"
      ]
     },
     "execution_count": 29,
     "metadata": {},
     "output_type": "execute_result"
    },
    {
     "data": {
      "text/plain": [
       "Text(0.5,0,'pc1')"
      ]
     },
     "execution_count": 29,
     "metadata": {},
     "output_type": "execute_result"
    },
    {
     "data": {
      "text/plain": [
       "Text(0,0.5,'pc2')"
      ]
     },
     "execution_count": 29,
     "metadata": {},
     "output_type": "execute_result"
    },
    {
     "data": {
      "image/png": "[encoded data removed]",
      "text/plain": [
       "<Figure size 360x360 with 1 Axes>"
      ]
     },
     "metadata": {},
     "output_type": "display_data"
    }
   ],
   "source": [
    "#perform PCA to determine important features\n",
    "from sklearn.decomposition import PCA\n",
    "pca = PCA()\n",
    "X_pca = pca.fit_transform(X)\n",
    "plt.figure(figsize=(5, 5))\n",
    "plt.plot(np.cumsum(pca.explained_variance_ratio_), 'ro-')\n",
    "plt.hlines(y=0.90, xmin=0, xmax=11)\n",
    "plt.xlabel('pc1')\n",
    "plt.ylabel('pc2')\n",
    "plt.grid()\n",
    "plt.show()"
   ]
  },
  {
   "cell_type": "code",
   "execution_count": 30,
   "metadata": {},
   "outputs": [
    {
     "data": {
      "text/plain": [
       "array([-0.27183851, -0.19512531, -0.19035069,  0.02825179,  0.05555013,\n",
       "       -0.0571423 , -0.04975935, -0.05369668])"
      ]
     },
     "execution_count": 30,
     "metadata": {},
     "output_type": "execute_result"
    }
   ],
   "source": [
    "pca_new = PCA(n_components=8)\n",
    "X_new = pca_new.fit_transform(X)\n",
    "\n",
    "X_new[0]"
   ]
  },
  {
   "cell_type": "code",
   "execution_count": 31,
   "metadata": {},
   "outputs": [
    {
     "name": "stdout",
     "output_type": "stream",
     "text": [
      "(1279, 8)\n",
      "(1279,)\n",
      "(320, 8)\n",
      "(320,)\n"
     ]
    }
   ],
   "source": [
    "from sklearn.model_selection import train_test_split\n",
    "\n",
    "X_train, X_test, y_train, y_test = train_test_split(X_new, y, test_size=0.2, random_state=68, stratify=y)\n",
    "print(X_train.shape)\n",
    "print(y_train.shape)\n",
    "print(X_test.shape)\n",
    "print(y_test.shape)"
   ]
  },
  {
   "cell_type": "code",
   "execution_count": 32,
   "metadata": {},
   "outputs": [],
   "source": [
    "from sklearn import model_selection\n",
    "from sklearn.dummy import DummyClassifier\n",
    "from sklearn.linear_model import LogisticRegression\n",
    "from sklearn.neighbors import KNeighborsClassifier\n",
    "from sklearn.tree import DecisionTreeClassifier\n",
    "\n",
    "from sklearn.naive_bayes import GaussianNB\n",
    "from sklearn.svm import SVC\n",
    "from sklearn.ensemble import RandomForestClassifier\n",
    "from sklearn.ensemble import AdaBoostClassifier\n",
    "from sklearn.ensemble import GradientBoostingClassifier\n",
    "from sklearn.ensemble import BaggingClassifier"
   ]
  },
  {
   "cell_type": "code",
   "execution_count": 33,
   "metadata": {},
   "outputs": [
    {
     "data": {
      "text/html": [
       "<style  type=\"text/css\" >\n",
       "</style><table id=\"T_6e9075b8_4adb_11ea_b734_4851b77d7c0f\" ><thead>    <tr>        <th class=\"col_heading level0 col0\" >Classifier</th>        <th class=\"col_heading level0 col1\" >AUC</th>        <th class=\"col_heading level0 col2\" >STD</th>    </tr></thead><tbody>\n",
       "                <tr>\n",
       "                                <td id=\"T_6e9075b8_4adb_11ea_b734_4851b77d7c0frow0_col0\" class=\"data row0 col0\" >DummyClassifier</td>\n",
       "                        <td id=\"T_6e9075b8_4adb_11ea_b734_4851b77d7c0frow0_col1\" class=\"data row0 col1\" >0.524937</td>\n",
       "                        <td id=\"T_6e9075b8_4adb_11ea_b734_4851b77d7c0frow0_col2\" class=\"data row0 col2\" >0.10065</td>\n",
       "            </tr>\n",
       "            <tr>\n",
       "                                <td id=\"T_6e9075b8_4adb_11ea_b734_4851b77d7c0frow1_col0\" class=\"data row1 col0\" >DecisionTreeClassifier</td>\n",
       "                        <td id=\"T_6e9075b8_4adb_11ea_b734_4851b77d7c0frow1_col1\" class=\"data row1 col1\" >0.743654</td>\n",
       "                        <td id=\"T_6e9075b8_4adb_11ea_b734_4851b77d7c0frow1_col2\" class=\"data row1 col2\" >0.0820067</td>\n",
       "            </tr>\n",
       "            <tr>\n",
       "                                <td id=\"T_6e9075b8_4adb_11ea_b734_4851b77d7c0frow2_col0\" class=\"data row2 col0\" >KNeighborsClassifier</td>\n",
       "                        <td id=\"T_6e9075b8_4adb_11ea_b734_4851b77d7c0frow2_col1\" class=\"data row2 col1\" >0.790157</td>\n",
       "                        <td id=\"T_6e9075b8_4adb_11ea_b734_4851b77d7c0frow2_col2\" class=\"data row2 col2\" >0.0803794</td>\n",
       "            </tr>\n",
       "            <tr>\n",
       "                                <td id=\"T_6e9075b8_4adb_11ea_b734_4851b77d7c0frow3_col0\" class=\"data row3 col0\" >GaussianNB</td>\n",
       "                        <td id=\"T_6e9075b8_4adb_11ea_b734_4851b77d7c0frow3_col1\" class=\"data row3 col1\" >0.805291</td>\n",
       "                        <td id=\"T_6e9075b8_4adb_11ea_b734_4851b77d7c0frow3_col2\" class=\"data row3 col2\" >0.0763451</td>\n",
       "            </tr>\n",
       "            <tr>\n",
       "                                <td id=\"T_6e9075b8_4adb_11ea_b734_4851b77d7c0frow4_col0\" class=\"data row4 col0\" >AdaBoostClassifier</td>\n",
       "                        <td id=\"T_6e9075b8_4adb_11ea_b734_4851b77d7c0frow4_col1\" class=\"data row4 col1\" >0.815391</td>\n",
       "                        <td id=\"T_6e9075b8_4adb_11ea_b734_4851b77d7c0frow4_col2\" class=\"data row4 col2\" >0.0937826</td>\n",
       "            </tr>\n",
       "            <tr>\n",
       "                                <td id=\"T_6e9075b8_4adb_11ea_b734_4851b77d7c0frow5_col0\" class=\"data row5 col0\" >SVC</td>\n",
       "                        <td id=\"T_6e9075b8_4adb_11ea_b734_4851b77d7c0frow5_col1\" class=\"data row5 col1\" >0.82075</td>\n",
       "                        <td id=\"T_6e9075b8_4adb_11ea_b734_4851b77d7c0frow5_col2\" class=\"data row5 col2\" >0.0782167</td>\n",
       "            </tr>\n",
       "            <tr>\n",
       "                                <td id=\"T_6e9075b8_4adb_11ea_b734_4851b77d7c0frow6_col0\" class=\"data row6 col0\" >LogisticRegression</td>\n",
       "                        <td id=\"T_6e9075b8_4adb_11ea_b734_4851b77d7c0frow6_col1\" class=\"data row6 col1\" >0.823302</td>\n",
       "                        <td id=\"T_6e9075b8_4adb_11ea_b734_4851b77d7c0frow6_col2\" class=\"data row6 col2\" >0.0795993</td>\n",
       "            </tr>\n",
       "            <tr>\n",
       "                                <td id=\"T_6e9075b8_4adb_11ea_b734_4851b77d7c0frow7_col0\" class=\"data row7 col0\" >GradientBoostingClassifier</td>\n",
       "                        <td id=\"T_6e9075b8_4adb_11ea_b734_4851b77d7c0frow7_col1\" class=\"data row7 col1\" >0.856823</td>\n",
       "                        <td id=\"T_6e9075b8_4adb_11ea_b734_4851b77d7c0frow7_col2\" class=\"data row7 col2\" >0.0798638</td>\n",
       "            </tr>\n",
       "            <tr>\n",
       "                                <td id=\"T_6e9075b8_4adb_11ea_b734_4851b77d7c0frow8_col0\" class=\"data row8 col0\" >RandomForestClassifier</td>\n",
       "                        <td id=\"T_6e9075b8_4adb_11ea_b734_4851b77d7c0frow8_col1\" class=\"data row8 col1\" >0.859426</td>\n",
       "                        <td id=\"T_6e9075b8_4adb_11ea_b734_4851b77d7c0frow8_col2\" class=\"data row8 col2\" >0.0865009</td>\n",
       "            </tr>\n",
       "            <tr>\n",
       "                                <td id=\"T_6e9075b8_4adb_11ea_b734_4851b77d7c0frow9_col0\" class=\"data row9 col0\" >BaggingClassifier</td>\n",
       "                        <td id=\"T_6e9075b8_4adb_11ea_b734_4851b77d7c0frow9_col1\" class=\"data row9 col1\" >0.864448</td>\n",
       "                        <td id=\"T_6e9075b8_4adb_11ea_b734_4851b77d7c0frow9_col2\" class=\"data row9 col2\" >0.0759372</td>\n",
       "            </tr>\n",
       "    </tbody></table>"
      ],
      "text/plain": [
       "<pandas.io.formats.style.Styler at 0x1d124b486c8>"
      ]
     },
     "execution_count": 33,
     "metadata": {},
     "output_type": "execute_result"
    }
   ],
   "source": [
    "#supress warning for scikit learn\n",
    "import warnings\n",
    "warnings.filterwarnings('ignore')\n",
    "\n",
    "rowsList = []\n",
    "\n",
    "for model in [DummyClassifier, \n",
    "              DecisionTreeClassifier, \n",
    "              KNeighborsClassifier, \n",
    "              GaussianNB, \n",
    "              LogisticRegression, \n",
    "              RandomForestClassifier,\n",
    "              SVC,\n",
    "              AdaBoostClassifier,\n",
    "              GradientBoostingClassifier,\n",
    "              BaggingClassifier\n",
    "              ]:\n",
    "    classifier = model()\n",
    "    kfold = model_selection.KFold(n_splits=50, random_state=68)\n",
    "    s = model_selection.cross_val_score(classifier, X_train, y_train, \n",
    "                                        scoring='roc_auc', cv=kfold)\n",
    "    dict = {'Classifier': model.__name__, 'AUC': s.mean(), 'STD': s.std()}\n",
    "    rowsList.append(dict)\n",
    "\n",
    "df = pd.DataFrame(rowsList)\n",
    "df.sort_values(by='AUC').style.hide_index()\n",
    "\n",
    "#have run the above many times and the top 3 classifiers consistenty showed\n",
    "#up are 1) RandomForestClassifier, 2) BaggingClassifier and \n",
    "#3) GradientBosstingClassifer"
   ]
  },
  {
   "cell_type": "code",
   "execution_count": 34,
   "metadata": {},
   "outputs": [
    {
     "name": "stdout",
     "output_type": "stream",
     "text": [
      "-=-=-=RandomForestClassifier-=-=-=\n",
      "Accuracy = 75.0%\n",
      "Confusion Matrix\n",
      "[[141  30]\n",
      " [ 50  99]]\n",
      "\n",
      "-=-=-=BaggingClassifier-=-=-=\n",
      "Accuracy = 77.19%\n",
      "Confusion Matrix\n",
      "[[144  27]\n",
      " [ 46 103]]\n",
      "\n",
      "-=-=-=GradientBoostingClassifier-=-=-=\n",
      "Accuracy = 77.19%\n",
      "Confusion Matrix\n",
      "[[138  33]\n",
      " [ 40 109]]\n",
      "\n"
     ]
    }
   ],
   "source": [
    "from sklearn.metrics import accuracy_score, confusion_matrix\n",
    "\n",
    "clf_list = [RandomForestClassifier, \n",
    "            BaggingClassifier, \n",
    "            GradientBoostingClassifier]\n",
    "\n",
    "def iterateAndTestModelAccuracy(classifier_testList=DummyClassifier):\n",
    "    for model in classifier_testList:\n",
    "        clf = model()\n",
    "        clf.fit(X_train, y_train)\n",
    "        predict = clf.predict(X_test)\n",
    "        accu = accuracy_score(y_test, predict)\n",
    "        cm = confusion_matrix(y_test, predict)\n",
    "        print('-=-=-={}-=-=-='.format(model.__name__))\n",
    "        print('Accuracy = {}%'.format(round(accu*100, 2)))\n",
    "        print('Confusion Matrix\\n{}\\n'.format(cm))\n",
    "\n",
    "iterateAndTestModelAccuracy(clf_list)"
   ]
  },
  {
   "cell_type": "code",
   "execution_count": 35,
   "metadata": {},
   "outputs": [],
   "source": [
    "from sklearn.model_selection import GridSearchCV\n",
    "\n",
    "def findModelBestParams(classifier, gParams):\n",
    "    model = classifier()\n",
    "    gs = GridSearchCV(estimator=model, \n",
    "                  param_grid=gParams, \n",
    "                  scoring='accuracy',\n",
    "                  cv=5,\n",
    "                  n_jobs=-1)\n",
    "    gs.fit(X_train, y_train)\n",
    "    print('-=-=-={}-=-=-=-'.format(classifier.__name__))\n",
    "    print('Best parameters => {}'.format(gs.best_params_))\n",
    "    print('Best result => {}'.format(gs.best_score_))\n"
   ]
  },
  {
   "cell_type": "code",
   "execution_count": 36,
   "metadata": {},
   "outputs": [],
   "source": [
    "#find best parameters for RandomForestClassifer"
   ]
  },
  {
   "cell_type": "code",
   "execution_count": 37,
   "metadata": {},
   "outputs": [
    {
     "name": "stdout",
     "output_type": "stream",
     "text": [
      "-=-=-=RandomForestClassifier-=-=-=-\n",
      "Best parameters => {'bootstrap': True, 'criterion': 'gini', 'n_estimators': 200}\n",
      "Best result => 0.8100078186082877\n"
     ]
    }
   ],
   "source": [
    "gridParams= {\n",
    "    'n_estimators': [100, 200, 400, 800, 1000],\n",
    "    'criterion': ['gini', 'entropy'],\n",
    "    'bootstrap': [True, False]\n",
    "}\n",
    "findModelBestParams(RandomForestClassifier, gridParams)"
   ]
  },
  {
   "cell_type": "code",
   "execution_count": 38,
   "metadata": {},
   "outputs": [],
   "source": [
    "#find best paramters for BaggingClassifer"
   ]
  },
  {
   "cell_type": "code",
   "execution_count": 41,
   "metadata": {},
   "outputs": [
    {
     "name": "stdout",
     "output_type": "stream",
     "text": [
      "-=-=-=BaggingClassifier-=-=-=-\n",
      "Best parameters => {'bootstrap': True, 'n_estimators': 1000}\n",
      "Best result => 0.8068803752931978\n"
     ]
    }
   ],
   "source": [
    "gridParams= {\n",
    "    'n_estimators': [100, 200, 400, 800, 1000],\n",
    "    'bootstrap': [True, False]\n",
    "}\n",
    "findModelBestParams(BaggingClassifier, gridParams)"
   ]
  },
  {
   "cell_type": "code",
   "execution_count": 42,
   "metadata": {},
   "outputs": [],
   "source": [
    "#find best paramters for GridentBoostingClassifer"
   ]
  },
  {
   "cell_type": "code",
   "execution_count": 43,
   "metadata": {},
   "outputs": [
    {
     "name": "stdout",
     "output_type": "stream",
     "text": [
      "-=-=-=GradientBoostingClassifier-=-=-=-\n",
      "Best parameters => {'criterion': 'friedman_mse', 'loss': 'exponential', 'n_estimators': 800, 'subsample': 0.5}\n",
      "Best result => 0.7920250195465207\n"
     ]
    }
   ],
   "source": [
    "gridParams= {\n",
    "    'n_estimators': [100, 200, 400, 800, 1000],\n",
    "    'criterion': ['friedman_mse', 'mae'],\n",
    "    'subsample': [0.1, 0.5, 0.1],\n",
    "    'loss': ['deviance', 'exponential']\n",
    "}\n",
    "findModelBestParams(GradientBoostingClassifier, gridParams)"
   ]
  },
  {
   "cell_type": "code",
   "execution_count": 44,
   "metadata": {},
   "outputs": [],
   "source": [
    "#train data with new parameters using RandomForestClassifier"
   ]
  },
  {
   "cell_type": "code",
   "execution_count": 45,
   "metadata": {},
   "outputs": [
    {
     "data": {
      "text/plain": [
       "RandomForestClassifier(bootstrap=True, class_weight=None, criterion='gini',\n",
       "                       max_depth=None, max_features='auto', max_leaf_nodes=None,\n",
       "                       min_impurity_decrease=0.0, min_impurity_split=None,\n",
       "                       min_samples_leaf=1, min_samples_split=2,\n",
       "                       min_weight_fraction_leaf=0.0, n_estimators=200,\n",
       "                       n_jobs=None, oob_score=False, random_state=None,\n",
       "                       verbose=0, warm_start=False)"
      ]
     },
     "execution_count": 45,
     "metadata": {},
     "output_type": "execute_result"
    },
    {
     "name": "stdout",
     "output_type": "stream",
     "text": [
      "-=-=-=RandomForestClassifier-=-=-=\n",
      "Accuracy = 76.88%\n",
      "Confusion Matrix\n",
      "[[140  31]\n",
      " [ 43 106]]\n",
      "\n"
     ]
    }
   ],
   "source": [
    "from sklearn.ensemble import RandomForestClassifier\n",
    "\n",
    "rf_classifier = RandomForestClassifier(n_estimators=200, criterion='gini', bootstrap=True)\n",
    "rf_classifier.fit(X_train, y_train)\n",
    "rf_predict = rf_classifier.predict(X_test)\n",
    "\n",
    "accu = accuracy_score(y_test, rf_predict)\n",
    "cm = confusion_matrix(y_test, rf_predict)\n",
    "print('-=-=-=RandomForestClassifier-=-=-=')\n",
    "print('Accuracy = {}%'.format(round(accu*100, 2)))\n",
    "print('Confusion Matrix\\n{}\\n'.format(cm))"
   ]
  },
  {
   "cell_type": "code",
   "execution_count": 52,
   "metadata": {},
   "outputs": [],
   "source": [
    "#train data with new parameters using BaggingClassifier"
   ]
  },
  {
   "cell_type": "code",
   "execution_count": 47,
   "metadata": {},
   "outputs": [
    {
     "data": {
      "text/plain": [
       "BaggingClassifier(base_estimator=None, bootstrap=True, bootstrap_features=False,\n",
       "                  max_features=1.0, max_samples=1.0, n_estimators=1000,\n",
       "                  n_jobs=None, oob_score=False, random_state=None, verbose=0,\n",
       "                  warm_start=False)"
      ]
     },
     "execution_count": 47,
     "metadata": {},
     "output_type": "execute_result"
    },
    {
     "name": "stdout",
     "output_type": "stream",
     "text": [
      "-=-=-=BaggingClassifier-=-=-=\n",
      "Accuracy = 76.56%\n",
      "Confusion Matrix\n",
      "[[138  33]\n",
      " [ 42 107]]\n",
      "\n"
     ]
    }
   ],
   "source": [
    "from sklearn.ensemble import BaggingClassifier\n",
    "\n",
    "bg_classifier = BaggingClassifier(n_estimators=1000, bootstrap=True, oob_score=False)\n",
    "bg_classifier.fit(X_train, y_train)\n",
    "bg_predict = bg_classifier.predict(X_test)\n",
    "\n",
    "accu = accuracy_score(y_test, bg_predict)\n",
    "cm = confusion_matrix(y_test, bg_predict)\n",
    "print('-=-=-=BaggingClassifier-=-=-=')\n",
    "print('Accuracy = {}%'.format(round(accu*100, 2)))\n",
    "print('Confusion Matrix\\n{}\\n'.format(cm))"
   ]
  },
  {
   "cell_type": "code",
   "execution_count": 48,
   "metadata": {},
   "outputs": [],
   "source": [
    "#train data with new parameters using GradientBoostingClassifier"
   ]
  },
  {
   "cell_type": "code",
   "execution_count": 49,
   "metadata": {},
   "outputs": [
    {
     "data": {
      "text/plain": [
       "GradientBoostingClassifier(criterion='friedman_mse', init=None,\n",
       "                           learning_rate=0.1, loss='deviance', max_depth=3,\n",
       "                           max_features=None, max_leaf_nodes=None,\n",
       "                           min_impurity_decrease=0.0, min_impurity_split=None,\n",
       "                           min_samples_leaf=1, min_samples_split=2,\n",
       "                           min_weight_fraction_leaf=0.0, n_estimators=800,\n",
       "                           n_iter_no_change=None, presort='auto',\n",
       "                           random_state=None, subsample=0.5, tol=0.0001,\n",
       "                           validation_fraction=0.1, verbose=0,\n",
       "                           warm_start=False)"
      ]
     },
     "execution_count": 49,
     "metadata": {},
     "output_type": "execute_result"
    },
    {
     "name": "stdout",
     "output_type": "stream",
     "text": [
      "-=-=-=GradientBoostingClassifier-=-=-=\n",
      "Accuracy = 75.94%\n",
      "Confusion Matrix\n",
      "[[139  32]\n",
      " [ 45 104]]\n",
      "\n"
     ]
    }
   ],
   "source": [
    "from sklearn.ensemble import GradientBoostingClassifier\n",
    "\n",
    "gb_classifier = GradientBoostingClassifier(criterion='friedman_mse', loss='deviance', n_estimators=800, subsample=0.5)\n",
    "gb_classifier.fit(X_train, y_train)\n",
    "gb_predict = gb_classifier.predict(X_test)\n",
    "\n",
    "accu = accuracy_score(y_test, gb_predict)\n",
    "cm = confusion_matrix(y_test, gb_predict)\n",
    "print('-=-=-=GradientBoostingClassifier-=-=-=')\n",
    "print('Accuracy = {}%'.format(round(accu*100, 2)))\n",
    "print('Confusion Matrix\\n{}\\n'.format(cm))"
   ]
  },
  {
   "cell_type": "code",
   "execution_count": 50,
   "metadata": {},
   "outputs": [],
   "source": [
    "#cross validation performed on ReandomForrestClassifier"
   ]
  },
  {
   "cell_type": "code",
   "execution_count": 51,
   "metadata": {},
   "outputs": [
    {
     "name": "stdout",
     "output_type": "stream",
     "text": [
      "Accuracies obtained after performing K-fold\n",
      " [0.84722222 0.80555556 0.79166667 0.83333333 0.77777778 0.86111111\n",
      " 0.86111111 0.80555556 0.80555556 0.83916084]\n",
      "Accuracy mean = 0.8228049728049728\n",
      "Standard Deviation =  0.027926605343545925\n"
     ]
    }
   ],
   "source": [
    "# cross validation of RandomForestClassifier\n",
    "\n",
    "from sklearn.model_selection import cross_val_score\n",
    "from sklearn.ensemble import RandomForestClassifier\n",
    "\n",
    "X_train, X_test, y_train, y_test = train_test_split(X_new, y, test_size=0.1, \n",
    "                                                    random_state=68, stratify=y)\n",
    "all_accuracies = cross_val_score(estimator=rf_classifier, \n",
    "                                 X=X_train, \n",
    "                                 y=y_train, cv=10)\n",
    "\n",
    "print('Accuracies obtained after performing K-fold\\n',all_accuracies)\n",
    "print('Accuracy mean =', all_accuracies.mean())\n",
    "print('Standard Deviation = ', all_accuracies.std())"
   ]
  },
  {
   "cell_type": "code",
   "execution_count": null,
   "metadata": {},
   "outputs": [],
   "source": []
  },
  {
   "cell_type": "code",
   "execution_count": null,
   "metadata": {},
   "outputs": [],
   "source": []
  },
  {
   "cell_type": "markdown",
   "metadata": {},
   "source": [
    "# SVM Classifier"
   ]
  },
  {
   "cell_type": "code",
   "execution_count": null,
   "metadata": {},
   "outputs": [],
   "source": [
    "from sklearn.svm import SVC\n",
    "from sklearn.metrics import confusion_matrix, accuracy_score\n",
    "\n",
    "svm_classifier = SVC(gamma='auto')\n",
    "svm_classifier.fit(X_train, y_train)\n",
    "svm_predict = svm_classifier.predict(X_test)"
   ]
  },
  {
   "cell_type": "code",
   "execution_count": null,
   "metadata": {},
   "outputs": [],
   "source": [
    "svm_classifier_cmatrix = confusion_matrix(y_test, svm_predict)\n",
    "svm_classifier_accScore = accuracy_score(y_test, svm_predict)\n",
    "\n",
    "print(svm_classifier_cmatrix)\n",
    "print(svm_classifier_accScore  * 100)"
   ]
  },
  {
   "cell_type": "markdown",
   "metadata": {},
   "source": [
    "# Decision Tree Classifier"
   ]
  },
  {
   "cell_type": "code",
   "execution_count": null,
   "metadata": {},
   "outputs": [],
   "source": [
    "from sklearn.tree import DecisionTreeClassifier\n",
    "\n",
    "dt_classifier = DecisionTreeClassifier()\n",
    "dt_classifier.fit(X_train, y_train)\n",
    "dt_predict = dt_classifier.predict(X_test)"
   ]
  },
  {
   "cell_type": "code",
   "execution_count": null,
   "metadata": {},
   "outputs": [],
   "source": [
    "dt_classifier_cmatrix = confusion_matrix(y_test, dt_predict)\n",
    "dt_classifier_accScore = accuracy_score(y_test, dt_predict)\n",
    "\n",
    "print(dt_classifier_cmatrix)\n",
    "print(dt_classifier_accScore  * 100)"
   ]
  },
  {
   "cell_type": "markdown",
   "metadata": {},
   "source": [
    "# Naive BayesClassifier"
   ]
  },
  {
   "cell_type": "code",
   "execution_count": null,
   "metadata": {},
   "outputs": [],
   "source": [
    "from sklearn.naive_bayes import GaussianNB\n",
    "\n",
    "nb_classifier = GaussianNB()\n",
    "nb_classifier.fit(X_train, y_train)\n",
    "nb_predict = nb_classifier.predict(X_test)"
   ]
  },
  {
   "cell_type": "code",
   "execution_count": null,
   "metadata": {},
   "outputs": [],
   "source": [
    "nb_classifier_cmatrix = confusion_matrix(y_test, nb_predict)\n",
    "nb_classifier_accScore = accuracy_score(y_test, nb_predict)\n",
    "\n",
    "print(nb_classifier_cmatrix)\n",
    "print(nb_classifier_accScore  * 100)"
   ]
  },
  {
   "cell_type": "markdown",
   "metadata": {},
   "source": [
    "# Random Forest Classifier"
   ]
  },
  {
   "cell_type": "code",
   "execution_count": null,
   "metadata": {},
   "outputs": [],
   "source": [
    "from sklearn.ensemble import RandomForestClassifier\n",
    "\n",
    "rf_classifier = RandomForestClassifier(n_estimators=1000, criterion='entropy', bootstrap=True)\n",
    "rf_classifier.fit(X_train, y_train)\n",
    "rf_predict = rf_classifier.predict(X_test)\n"
   ]
  },
  {
   "cell_type": "code",
   "execution_count": null,
   "metadata": {},
   "outputs": [],
   "source": [
    "rf_classifier_cmatrix = confusion_matrix(y_test, rf_predict)\n",
    "rf_classifier_accScore = accuracy_score(y_test, rf_predict)\n",
    "\n",
    "print(rf_classifier_cmatrix)\n",
    "print(rf_classifier_accScore  * 100)"
   ]
  },
  {
   "cell_type": "code",
   "execution_count": null,
   "metadata": {},
   "outputs": [],
   "source": [
    "from sklearn.model_selection import cross_val_score\n",
    "all_accuracies = cross_val_score(estimator=rf_classifier, X=X_train, y=y_train, cv=5)"
   ]
  },
  {
   "cell_type": "code",
   "execution_count": null,
   "metadata": {},
   "outputs": [],
   "source": [
    "print(all_accuracies)\n",
    "print(all_accuracies.mean())\n",
    "print(all_accuracies.std())"
   ]
  },
  {
   "cell_type": "code",
   "execution_count": null,
   "metadata": {},
   "outputs": [],
   "source": [
    "from sklearn.model_selection import GridSearchCV\n",
    "\n",
    "grid_param = {\n",
    "    'n_estimators': [100, 300, 500, 800, 1000],\n",
    "    'criterion': ['gini', 'entropy'],\n",
    "    'bootstrap': [True, False]\n",
    "}\n",
    "\n",
    "gs = GridSearchCV(estimator=rf_classifier, param_grid=grid_param, scoring='accuracy', cv=5, n_jobs=-1)\n",
    "gs.fit(X_train, y_train)"
   ]
  },
  {
   "cell_type": "code",
   "execution_count": null,
   "metadata": {},
   "outputs": [],
   "source": [
    "best_parameters = gs.best_params_\n",
    "print(best_parameters)"
   ]
  },
  {
   "cell_type": "code",
   "execution_count": null,
   "metadata": {},
   "outputs": [],
   "source": [
    "best_result = gs.best_score_\n",
    "print(best_result)"
   ]
  },
  {
   "cell_type": "code",
   "execution_count": null,
   "metadata": {},
   "outputs": [],
   "source": [
    "rf_classifier.get_params()"
   ]
  },
  {
   "cell_type": "markdown",
   "metadata": {},
   "source": [
    "# GradientBoosting Classifier"
   ]
  },
  {
   "cell_type": "code",
   "execution_count": null,
   "metadata": {},
   "outputs": [],
   "source": [
    "from sklearn.ensemble import GradientBoostingClassifier\n",
    "\n",
    "gb_classifier = GradientBoostingClassifier(n_estimators=500, loss='deviance', subsample=0.5, criterion='friedman_mse')\n",
    "gb_classifier.fit(X_train, y_train)\n",
    "gb_predict = gb_classifier.predict(X_test)"
   ]
  },
  {
   "cell_type": "code",
   "execution_count": null,
   "metadata": {},
   "outputs": [],
   "source": [
    "gb_classifier_cmatrix = confusion_matrix(y_test, gb_predict)\n",
    "gb_classifier_accScore = accuracy_score(y_test, gb_predict)\n",
    "\n",
    "print(gb_classifier_cmatrix)\n",
    "print(gb_classifier_accScore  * 100)"
   ]
  },
  {
   "cell_type": "markdown",
   "metadata": {},
   "source": [
    "# Tuning"
   ]
  },
  {
   "cell_type": "code",
   "execution_count": null,
   "metadata": {},
   "outputs": [],
   "source": [
    "from sklearn.model_selection import cross_val_score\n",
    "all_accuracies = cross_val_score(estimator=gb_classifier, X=X_train, y=y_train, cv=5)\n",
    "\n",
    "print(all_accuracies)\n",
    "print(all_accuracies.mean())\n",
    "print(all_accuracies.std())"
   ]
  },
  {
   "cell_type": "code",
   "execution_count": null,
   "metadata": {},
   "outputs": [],
   "source": [
    "from sklearn.model_selection import GridSearchCV\n",
    "\n",
    "gb_classifier.get_params()\n",
    "\n",
    "grid_param = {\n",
    "    'n_estimators': [100, 300, 500, 800, 1000],\n",
    "    'criterion': ['friedman_mse', 'mae'],\n",
    "    'subsample': [0.1, 0.5, 0.1],\n",
    "    'loss': ['deviance', 'exponential']\n",
    "}\n",
    "\n",
    "gs = GridSearchCV(estimator=gb_classifier, param_grid=grid_param, scoring='accuracy', cv=5, n_jobs=-1)\n",
    "gs.fit(X_train, y_train)"
   ]
  },
  {
   "cell_type": "code",
   "execution_count": null,
   "metadata": {},
   "outputs": [],
   "source": [
    "best_parameters = gs.best_params_\n",
    "print(best_parameters)\n",
    "\n",
    "best_result = gs.best_score_\n",
    "print(best_result)"
   ]
  },
  {
   "cell_type": "markdown",
   "metadata": {},
   "source": [
    "## Testing which algorithm to explore"
   ]
  },
  {
   "cell_type": "code",
   "execution_count": null,
   "metadata": {},
   "outputs": [],
   "source": [
    "from sklearn import model_selection\n",
    "from sklearn.dummy import DummyClassifier\n",
    "from sklearn.tree import DecisionTreeClassifier\n",
    "from sklearn.neighbors import KNeighborsClassifier\n",
    "from sklearn.linear_model import LogisticRegression\n",
    "from sklearn.naive_bayes import GaussianNB\n",
    "from sklearn.svm import SVC\n",
    "from sklearn.ensemble import RandomForestClassifier\n",
    "from sklearn.ensemble import AdaBoostClassifier\n",
    "from sklearn.ensemble import GradientBoostingClassifier\n",
    "from sklearn.ensemble import BaggingClassifier\n"
   ]
  },
  {
   "cell_type": "code",
   "execution_count": null,
   "metadata": {},
   "outputs": [],
   "source": [
    "import warnings\n",
    "warnings.filterwarnings('ignore')\n",
    "\n",
    "rowsList = []\n",
    "\n",
    "for model in [DummyClassifier, \n",
    "              DecisionTreeClassifier, \n",
    "              KNeighborsClassifier, \n",
    "              GaussianNB, \n",
    "              LogisticRegression, \n",
    "              RandomForestClassifier,\n",
    "              SVC,\n",
    "              AdaBoostClassifier,\n",
    "              GradientBoostingClassifier,\n",
    "              BaggingClassifier\n",
    "              ]:\n",
    "    classifier = model()\n",
    "    kfold = model_selection.KFold(n_splits=30, random_state=123)\n",
    "    s = model_selection.cross_val_score(classifier, X, y, scoring='roc_auc', cv=kfold)\n",
    "    #print(f'{model.__name__:30} AUC: ' f'{s.mean():.3f} STD: {s.std():.2f}')\n",
    "    dict = {'Classifier': model.__name__, 'AUC': s.mean(), 'STD': s.std()}\n",
    "    rowsList.append(dict)\n",
    "\n",
    "df = pd.DataFrame(rowsList)\n"
   ]
  },
  {
   "cell_type": "code",
   "execution_count": null,
   "metadata": {},
   "outputs": [],
   "source": [
    "df.sort_values(by='AUC').style.hide_index()"
   ]
  },
  {
   "cell_type": "markdown",
   "metadata": {},
   "source": [
    "# Cross Validation"
   ]
  },
  {
   "cell_type": "code",
   "execution_count": null,
   "metadata": {},
   "outputs": [],
   "source": []
  }
 ],
 "metadata": {
  "kernelspec": {
   "display_name": "Python 3",
   "language": "python",
   "name": "python3"
  },
  "language_info": {
   "codemirror_mode": {
    "name": "ipython",
    "version": 3
   },
   "file_extension": ".py",
   "mimetype": "text/x-python",
   "name": "python",
   "nbconvert_exporter": "python",
   "pygments_lexer": "ipython3",
   "version": "3.7.6"
  }
 },
 "nbformat": 4,
 "nbformat_minor": 4
}
